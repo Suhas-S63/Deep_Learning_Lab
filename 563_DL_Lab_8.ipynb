{
  "nbformat": 4,
  "nbformat_minor": 0,
  "metadata": {
    "colab": {
      "provenance": [],
      "gpuType": "T4",
      "include_colab_link": true
    },
    "kernelspec": {
      "name": "python3",
      "display_name": "Python 3"
    },
    "language_info": {
      "name": "python"
    },
    "accelerator": "GPU"
  },
  "cells": [
    {
      "cell_type": "markdown",
      "metadata": {
        "id": "view-in-github",
        "colab_type": "text"
      },
      "source": [
        "<a href=\"https://colab.research.google.com/github/Suhas-S63/Deep_Learning_Lab/blob/main/563_DL_Lab_8.ipynb\" target=\"_parent\"><img src=\"https://colab.research.google.com/assets/colab-badge.svg\" alt=\"Open In Colab\"/></a>"
      ]
    },
    {
      "cell_type": "markdown",
      "source": [
        "## YOLO Algortihm with Custom Data Training"
      ],
      "metadata": {
        "id": "bGQoiTIZkKQ9"
      }
    },
    {
      "cell_type": "code",
      "source": [
        "! pip install ultralytics"
      ],
      "metadata": {
        "colab": {
          "base_uri": "https://localhost:8080/"
        },
        "id": "p-JP5nLzkZyB",
        "outputId": "2d987052-095b-4f17-e2a4-231bac141edd"
      },
      "execution_count": null,
      "outputs": [
        {
          "output_type": "stream",
          "name": "stdout",
          "text": [
            "Collecting ultralytics\n",
            "  Downloading ultralytics-8.1.45-py3-none-any.whl (749 kB)\n",
            "\u001b[?25l     \u001b[90m━━━━━━━━━━━━━━━━━━━━━━━━━━━━━━━━━━━━━━━━\u001b[0m \u001b[32m0.0/749.6 kB\u001b[0m \u001b[31m?\u001b[0m eta \u001b[36m-:--:--\u001b[0m\r\u001b[2K     \u001b[91m━━━━━━━\u001b[0m\u001b[91m╸\u001b[0m\u001b[90m━━━━━━━━━━━━━━━━━━━━━━━━━━━━━━━━\u001b[0m \u001b[32m143.4/749.6 kB\u001b[0m \u001b[31m4.2 MB/s\u001b[0m eta \u001b[36m0:00:01\u001b[0m\r\u001b[2K     \u001b[90m━━━━━━━━━━━━━━━━━━━━━━━━━━━━━━━━━━━━━━━━\u001b[0m \u001b[32m749.6/749.6 kB\u001b[0m \u001b[31m11.2 MB/s\u001b[0m eta \u001b[36m0:00:00\u001b[0m\n",
            "\u001b[?25hRequirement already satisfied: matplotlib>=3.3.0 in /usr/local/lib/python3.10/dist-packages (from ultralytics) (3.7.1)\n",
            "Requirement already satisfied: opencv-python>=4.6.0 in /usr/local/lib/python3.10/dist-packages (from ultralytics) (4.8.0.76)\n",
            "Requirement already satisfied: pillow>=7.1.2 in /usr/local/lib/python3.10/dist-packages (from ultralytics) (9.4.0)\n",
            "Requirement already satisfied: pyyaml>=5.3.1 in /usr/local/lib/python3.10/dist-packages (from ultralytics) (6.0.1)\n",
            "Requirement already satisfied: requests>=2.23.0 in /usr/local/lib/python3.10/dist-packages (from ultralytics) (2.31.0)\n",
            "Requirement already satisfied: scipy>=1.4.1 in /usr/local/lib/python3.10/dist-packages (from ultralytics) (1.11.4)\n",
            "Requirement already satisfied: torch>=1.8.0 in /usr/local/lib/python3.10/dist-packages (from ultralytics) (2.2.1+cu121)\n",
            "Requirement already satisfied: torchvision>=0.9.0 in /usr/local/lib/python3.10/dist-packages (from ultralytics) (0.17.1+cu121)\n",
            "Requirement already satisfied: tqdm>=4.64.0 in /usr/local/lib/python3.10/dist-packages (from ultralytics) (4.66.2)\n",
            "Requirement already satisfied: psutil in /usr/local/lib/python3.10/dist-packages (from ultralytics) (5.9.5)\n",
            "Requirement already satisfied: py-cpuinfo in /usr/local/lib/python3.10/dist-packages (from ultralytics) (9.0.0)\n",
            "Collecting thop>=0.1.1 (from ultralytics)\n",
            "  Downloading thop-0.1.1.post2209072238-py3-none-any.whl (15 kB)\n",
            "Requirement already satisfied: pandas>=1.1.4 in /usr/local/lib/python3.10/dist-packages (from ultralytics) (2.0.3)\n",
            "Requirement already satisfied: seaborn>=0.11.0 in /usr/local/lib/python3.10/dist-packages (from ultralytics) (0.13.1)\n",
            "Requirement already satisfied: contourpy>=1.0.1 in /usr/local/lib/python3.10/dist-packages (from matplotlib>=3.3.0->ultralytics) (1.2.1)\n",
            "Requirement already satisfied: cycler>=0.10 in /usr/local/lib/python3.10/dist-packages (from matplotlib>=3.3.0->ultralytics) (0.12.1)\n",
            "Requirement already satisfied: fonttools>=4.22.0 in /usr/local/lib/python3.10/dist-packages (from matplotlib>=3.3.0->ultralytics) (4.50.0)\n",
            "Requirement already satisfied: kiwisolver>=1.0.1 in /usr/local/lib/python3.10/dist-packages (from matplotlib>=3.3.0->ultralytics) (1.4.5)\n",
            "Requirement already satisfied: numpy>=1.20 in /usr/local/lib/python3.10/dist-packages (from matplotlib>=3.3.0->ultralytics) (1.25.2)\n",
            "Requirement already satisfied: packaging>=20.0 in /usr/local/lib/python3.10/dist-packages (from matplotlib>=3.3.0->ultralytics) (24.0)\n",
            "Requirement already satisfied: pyparsing>=2.3.1 in /usr/local/lib/python3.10/dist-packages (from matplotlib>=3.3.0->ultralytics) (3.1.2)\n",
            "Requirement already satisfied: python-dateutil>=2.7 in /usr/local/lib/python3.10/dist-packages (from matplotlib>=3.3.0->ultralytics) (2.8.2)\n",
            "Requirement already satisfied: pytz>=2020.1 in /usr/local/lib/python3.10/dist-packages (from pandas>=1.1.4->ultralytics) (2023.4)\n",
            "Requirement already satisfied: tzdata>=2022.1 in /usr/local/lib/python3.10/dist-packages (from pandas>=1.1.4->ultralytics) (2024.1)\n",
            "Requirement already satisfied: charset-normalizer<4,>=2 in /usr/local/lib/python3.10/dist-packages (from requests>=2.23.0->ultralytics) (3.3.2)\n",
            "Requirement already satisfied: idna<4,>=2.5 in /usr/local/lib/python3.10/dist-packages (from requests>=2.23.0->ultralytics) (3.6)\n",
            "Requirement already satisfied: urllib3<3,>=1.21.1 in /usr/local/lib/python3.10/dist-packages (from requests>=2.23.0->ultralytics) (2.0.7)\n",
            "Requirement already satisfied: certifi>=2017.4.17 in /usr/local/lib/python3.10/dist-packages (from requests>=2.23.0->ultralytics) (2024.2.2)\n",
            "Requirement already satisfied: filelock in /usr/local/lib/python3.10/dist-packages (from torch>=1.8.0->ultralytics) (3.13.3)\n",
            "Requirement already satisfied: typing-extensions>=4.8.0 in /usr/local/lib/python3.10/dist-packages (from torch>=1.8.0->ultralytics) (4.10.0)\n",
            "Requirement already satisfied: sympy in /usr/local/lib/python3.10/dist-packages (from torch>=1.8.0->ultralytics) (1.12)\n",
            "Requirement already satisfied: networkx in /usr/local/lib/python3.10/dist-packages (from torch>=1.8.0->ultralytics) (3.2.1)\n",
            "Requirement already satisfied: jinja2 in /usr/local/lib/python3.10/dist-packages (from torch>=1.8.0->ultralytics) (3.1.3)\n",
            "Requirement already satisfied: fsspec in /usr/local/lib/python3.10/dist-packages (from torch>=1.8.0->ultralytics) (2023.6.0)\n",
            "Collecting nvidia-cuda-nvrtc-cu12==12.1.105 (from torch>=1.8.0->ultralytics)\n",
            "  Using cached nvidia_cuda_nvrtc_cu12-12.1.105-py3-none-manylinux1_x86_64.whl (23.7 MB)\n",
            "Collecting nvidia-cuda-runtime-cu12==12.1.105 (from torch>=1.8.0->ultralytics)\n",
            "  Using cached nvidia_cuda_runtime_cu12-12.1.105-py3-none-manylinux1_x86_64.whl (823 kB)\n",
            "Collecting nvidia-cuda-cupti-cu12==12.1.105 (from torch>=1.8.0->ultralytics)\n",
            "  Using cached nvidia_cuda_cupti_cu12-12.1.105-py3-none-manylinux1_x86_64.whl (14.1 MB)\n",
            "Collecting nvidia-cudnn-cu12==8.9.2.26 (from torch>=1.8.0->ultralytics)\n",
            "  Using cached nvidia_cudnn_cu12-8.9.2.26-py3-none-manylinux1_x86_64.whl (731.7 MB)\n",
            "Collecting nvidia-cublas-cu12==12.1.3.1 (from torch>=1.8.0->ultralytics)\n",
            "  Using cached nvidia_cublas_cu12-12.1.3.1-py3-none-manylinux1_x86_64.whl (410.6 MB)\n",
            "Collecting nvidia-cufft-cu12==11.0.2.54 (from torch>=1.8.0->ultralytics)\n",
            "  Using cached nvidia_cufft_cu12-11.0.2.54-py3-none-manylinux1_x86_64.whl (121.6 MB)\n",
            "Collecting nvidia-curand-cu12==10.3.2.106 (from torch>=1.8.0->ultralytics)\n",
            "  Using cached nvidia_curand_cu12-10.3.2.106-py3-none-manylinux1_x86_64.whl (56.5 MB)\n",
            "Collecting nvidia-cusolver-cu12==11.4.5.107 (from torch>=1.8.0->ultralytics)\n",
            "  Using cached nvidia_cusolver_cu12-11.4.5.107-py3-none-manylinux1_x86_64.whl (124.2 MB)\n",
            "Collecting nvidia-cusparse-cu12==12.1.0.106 (from torch>=1.8.0->ultralytics)\n",
            "  Using cached nvidia_cusparse_cu12-12.1.0.106-py3-none-manylinux1_x86_64.whl (196.0 MB)\n",
            "Collecting nvidia-nccl-cu12==2.19.3 (from torch>=1.8.0->ultralytics)\n",
            "  Using cached nvidia_nccl_cu12-2.19.3-py3-none-manylinux1_x86_64.whl (166.0 MB)\n",
            "Collecting nvidia-nvtx-cu12==12.1.105 (from torch>=1.8.0->ultralytics)\n",
            "  Using cached nvidia_nvtx_cu12-12.1.105-py3-none-manylinux1_x86_64.whl (99 kB)\n",
            "Requirement already satisfied: triton==2.2.0 in /usr/local/lib/python3.10/dist-packages (from torch>=1.8.0->ultralytics) (2.2.0)\n",
            "Collecting nvidia-nvjitlink-cu12 (from nvidia-cusolver-cu12==11.4.5.107->torch>=1.8.0->ultralytics)\n",
            "  Using cached nvidia_nvjitlink_cu12-12.4.127-py3-none-manylinux2014_x86_64.whl (21.1 MB)\n",
            "Requirement already satisfied: six>=1.5 in /usr/local/lib/python3.10/dist-packages (from python-dateutil>=2.7->matplotlib>=3.3.0->ultralytics) (1.16.0)\n",
            "Requirement already satisfied: MarkupSafe>=2.0 in /usr/local/lib/python3.10/dist-packages (from jinja2->torch>=1.8.0->ultralytics) (2.1.5)\n",
            "Requirement already satisfied: mpmath>=0.19 in /usr/local/lib/python3.10/dist-packages (from sympy->torch>=1.8.0->ultralytics) (1.3.0)\n",
            "Installing collected packages: nvidia-nvtx-cu12, nvidia-nvjitlink-cu12, nvidia-nccl-cu12, nvidia-curand-cu12, nvidia-cufft-cu12, nvidia-cuda-runtime-cu12, nvidia-cuda-nvrtc-cu12, nvidia-cuda-cupti-cu12, nvidia-cublas-cu12, nvidia-cusparse-cu12, nvidia-cudnn-cu12, nvidia-cusolver-cu12, thop, ultralytics\n",
            "Successfully installed nvidia-cublas-cu12-12.1.3.1 nvidia-cuda-cupti-cu12-12.1.105 nvidia-cuda-nvrtc-cu12-12.1.105 nvidia-cuda-runtime-cu12-12.1.105 nvidia-cudnn-cu12-8.9.2.26 nvidia-cufft-cu12-11.0.2.54 nvidia-curand-cu12-10.3.2.106 nvidia-cusolver-cu12-11.4.5.107 nvidia-cusparse-cu12-12.1.0.106 nvidia-nccl-cu12-2.19.3 nvidia-nvjitlink-cu12-12.4.127 nvidia-nvtx-cu12-12.1.105 thop-0.1.1.post2209072238 ultralytics-8.1.45\n"
          ]
        }
      ]
    },
    {
      "cell_type": "code",
      "source": [
        "from ultralytics import YOLO\n",
        "import cv2\n",
        "import math"
      ],
      "metadata": {
        "id": "ajO9S1mNkXja"
      },
      "execution_count": null,
      "outputs": []
    },
    {
      "cell_type": "code",
      "source": [
        "import os\n",
        "count = 0\n",
        "# paths\n",
        "image_directory = '/content/drive/MyDrive/Traffic_Inter_Images'\n",
        "annot_directory = '/content/drive/MyDrive/labels_custom-yolo-dataset_2024-04-10-08-20-58'\n",
        "\n",
        "# Iterate through each image file in the image folder\n",
        "for filename in os.listdir(image_directory):\n",
        "    if filename.endswith(('.jpg', '.jpeg', '.png', '.bmp')):\n",
        "        image_path = os.path.join(image_directory, filename)\n",
        "        annotation_path = os.path.join(annot_directory, os.path.splitext(filename)[0] + '.txt')\n",
        "\n",
        "        # Check if corresponding annotation file exists\n",
        "        if os.path.exists(annotation_path):\n",
        "            # Process the image and annotation\n",
        "            print(f\"Image: {image_path}, Annotation: {annotation_path}\")\n",
        "            count+=1\n",
        "        else:\n",
        "            print(f\"No annotation found for {filename}\")\n",
        "print(\"Total images with annotations: \" + str(count))"
      ],
      "metadata": {
        "colab": {
          "base_uri": "https://localhost:8080/"
        },
        "id": "EGRNSntKoVd3",
        "outputId": "9ac33122-643d-4082-b6b2-4e6ebcd830bf"
      },
      "execution_count": null,
      "outputs": [
        {
          "output_type": "stream",
          "name": "stdout",
          "text": [
            "Image: /content/drive/MyDrive/Traffic_Inter_Images/pexels-jiarong-deng-1034666.jpg, Annotation: /content/drive/MyDrive/labels_custom-yolo-dataset_2024-04-10-08-20-58/pexels-jiarong-deng-1034666.txt\n",
            "Image: /content/drive/MyDrive/Traffic_Inter_Images/pexels-nout-gons-378570.jpg, Annotation: /content/drive/MyDrive/labels_custom-yolo-dataset_2024-04-10-08-20-58/pexels-nout-gons-378570.txt\n",
            "Image: /content/drive/MyDrive/Traffic_Inter_Images/pexels-deva-darshan-1044329.jpg, Annotation: /content/drive/MyDrive/labels_custom-yolo-dataset_2024-04-10-08-20-58/pexels-deva-darshan-1044329.txt\n",
            "Image: /content/drive/MyDrive/Traffic_Inter_Images/pexels-deva-darshan-1044329 (1).jpg, Annotation: /content/drive/MyDrive/labels_custom-yolo-dataset_2024-04-10-08-20-58/pexels-deva-darshan-1044329 (1).txt\n",
            "Image: /content/drive/MyDrive/Traffic_Inter_Images/pexels-norbert-kundrak-3625034.jpg, Annotation: /content/drive/MyDrive/labels_custom-yolo-dataset_2024-04-10-08-20-58/pexels-norbert-kundrak-3625034.txt\n",
            "Image: /content/drive/MyDrive/Traffic_Inter_Images/pexels-joey-lu-186537.jpg, Annotation: /content/drive/MyDrive/labels_custom-yolo-dataset_2024-04-10-08-20-58/pexels-joey-lu-186537.txt\n",
            "Image: /content/drive/MyDrive/Traffic_Inter_Images/pexels-tim-samuel-5835316.jpg, Annotation: /content/drive/MyDrive/labels_custom-yolo-dataset_2024-04-10-08-20-58/pexels-tim-samuel-5835316.txt\n",
            "Image: /content/drive/MyDrive/Traffic_Inter_Images/pexels-ferliana-febritasari-3766613.jpg, Annotation: /content/drive/MyDrive/labels_custom-yolo-dataset_2024-04-10-08-20-58/pexels-ferliana-febritasari-3766613.txt\n",
            "Image: /content/drive/MyDrive/Traffic_Inter_Images/pexels-lukas-rychvalsky-922690.jpg, Annotation: /content/drive/MyDrive/labels_custom-yolo-dataset_2024-04-10-08-20-58/pexels-lukas-rychvalsky-922690.txt\n",
            "Image: /content/drive/MyDrive/Traffic_Inter_Images/pexels-antonio-sokic-3839425.jpg, Annotation: /content/drive/MyDrive/labels_custom-yolo-dataset_2024-04-10-08-20-58/pexels-antonio-sokic-3839425.txt\n",
            "Image: /content/drive/MyDrive/Traffic_Inter_Images/pexels-ryutaro-tsukata-5745020.jpg, Annotation: /content/drive/MyDrive/labels_custom-yolo-dataset_2024-04-10-08-20-58/pexels-ryutaro-tsukata-5745020.txt\n",
            "Image: /content/drive/MyDrive/Traffic_Inter_Images/pexels-ryutaro-tsukata-5745019.jpg, Annotation: /content/drive/MyDrive/labels_custom-yolo-dataset_2024-04-10-08-20-58/pexels-ryutaro-tsukata-5745019.txt\n",
            "Image: /content/drive/MyDrive/Traffic_Inter_Images/pexels-aleks-magnusson-2962589.jpg, Annotation: /content/drive/MyDrive/labels_custom-yolo-dataset_2024-04-10-08-20-58/pexels-aleks-magnusson-2962589.txt\n",
            "Image: /content/drive/MyDrive/Traffic_Inter_Images/pexels-antonio-sokic-3839434.jpg, Annotation: /content/drive/MyDrive/labels_custom-yolo-dataset_2024-04-10-08-20-58/pexels-antonio-sokic-3839434.txt\n",
            "Image: /content/drive/MyDrive/Traffic_Inter_Images/pexels-ferliana-febritasari-3766620.jpg, Annotation: /content/drive/MyDrive/labels_custom-yolo-dataset_2024-04-10-08-20-58/pexels-ferliana-febritasari-3766620.txt\n",
            "Image: /content/drive/MyDrive/Traffic_Inter_Images/pexels-scott-webb-1070072.jpg, Annotation: /content/drive/MyDrive/labels_custom-yolo-dataset_2024-04-10-08-20-58/pexels-scott-webb-1070072.txt\n",
            "Image: /content/drive/MyDrive/Traffic_Inter_Images/pexels-photo-3043592.jpeg, Annotation: /content/drive/MyDrive/labels_custom-yolo-dataset_2024-04-10-08-20-58/pexels-photo-3043592.txt\n",
            "Image: /content/drive/MyDrive/Traffic_Inter_Images/pexels-ryutaro-tsukata-5745087.jpg, Annotation: /content/drive/MyDrive/labels_custom-yolo-dataset_2024-04-10-08-20-58/pexels-ryutaro-tsukata-5745087.txt\n",
            "Image: /content/drive/MyDrive/Traffic_Inter_Images/pexels-ryutaro-tsukata-5745093.jpg, Annotation: /content/drive/MyDrive/labels_custom-yolo-dataset_2024-04-10-08-20-58/pexels-ryutaro-tsukata-5745093.txt\n",
            "Image: /content/drive/MyDrive/Traffic_Inter_Images/pexels-flo-dahm-1137511.jpg, Annotation: /content/drive/MyDrive/labels_custom-yolo-dataset_2024-04-10-08-20-58/pexels-flo-dahm-1137511.txt\n",
            "Image: /content/drive/MyDrive/Traffic_Inter_Images/pexels-rick-han-3941308.jpg, Annotation: /content/drive/MyDrive/labels_custom-yolo-dataset_2024-04-10-08-20-58/pexels-rick-han-3941308.txt\n",
            "Image: /content/drive/MyDrive/Traffic_Inter_Images/pexels-remy-mcdonald-3036687.jpg, Annotation: /content/drive/MyDrive/labels_custom-yolo-dataset_2024-04-10-08-20-58/pexels-remy-mcdonald-3036687.txt\n",
            "Image: /content/drive/MyDrive/Traffic_Inter_Images/pexels-tom-fisk-3405766.jpg, Annotation: /content/drive/MyDrive/labels_custom-yolo-dataset_2024-04-10-08-20-58/pexels-tom-fisk-3405766.txt\n",
            "Image: /content/drive/MyDrive/Traffic_Inter_Images/pexels-andrea-piacquadio-771184.jpg, Annotation: /content/drive/MyDrive/labels_custom-yolo-dataset_2024-04-10-08-20-58/pexels-andrea-piacquadio-771184.txt\n",
            "Image: /content/drive/MyDrive/Traffic_Inter_Images/pexels-ryutaro-tsukata-5745039.jpg, Annotation: /content/drive/MyDrive/labels_custom-yolo-dataset_2024-04-10-08-20-58/pexels-ryutaro-tsukata-5745039.txt\n",
            "Image: /content/drive/MyDrive/Traffic_Inter_Images/pexels-jimmy-liao-14838229.jpg, Annotation: /content/drive/MyDrive/labels_custom-yolo-dataset_2024-04-10-08-20-58/pexels-jimmy-liao-14838229.txt\n",
            "Image: /content/drive/MyDrive/Traffic_Inter_Images/pexels-amaury-michaux-18189677.jpg, Annotation: /content/drive/MyDrive/labels_custom-yolo-dataset_2024-04-10-08-20-58/pexels-amaury-michaux-18189677.txt\n",
            "Image: /content/drive/MyDrive/Traffic_Inter_Images/pexels-thgusstavo-santana-4260636.jpg, Annotation: /content/drive/MyDrive/labels_custom-yolo-dataset_2024-04-10-08-20-58/pexels-thgusstavo-santana-4260636.txt\n",
            "Image: /content/drive/MyDrive/Traffic_Inter_Images/pexels-nothing-ahead-10302400.jpg, Annotation: /content/drive/MyDrive/labels_custom-yolo-dataset_2024-04-10-08-20-58/pexels-nothing-ahead-10302400.txt\n",
            "Image: /content/drive/MyDrive/Traffic_Inter_Images/pexels-wender-junior-souza-vieira-6122265.jpg, Annotation: /content/drive/MyDrive/labels_custom-yolo-dataset_2024-04-10-08-20-58/pexels-wender-junior-souza-vieira-6122265.txt\n",
            "Image: /content/drive/MyDrive/Traffic_Inter_Images/pexels-furkanfdemir-6215332.jpg, Annotation: /content/drive/MyDrive/labels_custom-yolo-dataset_2024-04-10-08-20-58/pexels-furkanfdemir-6215332.txt\n",
            "Image: /content/drive/MyDrive/Traffic_Inter_Images/pexels-vlad-fonsark-5109823.jpg, Annotation: /content/drive/MyDrive/labels_custom-yolo-dataset_2024-04-10-08-20-58/pexels-vlad-fonsark-5109823.txt\n",
            "Image: /content/drive/MyDrive/Traffic_Inter_Images/pexels-jimmy-liao-11296191.jpg, Annotation: /content/drive/MyDrive/labels_custom-yolo-dataset_2024-04-10-08-20-58/pexels-jimmy-liao-11296191.txt\n",
            "Image: /content/drive/MyDrive/Traffic_Inter_Images/pexels-lidia-riehman-5713970.jpg, Annotation: /content/drive/MyDrive/labels_custom-yolo-dataset_2024-04-10-08-20-58/pexels-lidia-riehman-5713970.txt\n",
            "Image: /content/drive/MyDrive/Traffic_Inter_Images/pexels-whicdhemein-one-4576953.jpg, Annotation: /content/drive/MyDrive/labels_custom-yolo-dataset_2024-04-10-08-20-58/pexels-whicdhemein-one-4576953.txt\n",
            "Image: /content/drive/MyDrive/Traffic_Inter_Images/pexels-furkanfdemir-6215335.jpg, Annotation: /content/drive/MyDrive/labels_custom-yolo-dataset_2024-04-10-08-20-58/pexels-furkanfdemir-6215335.txt\n",
            "Image: /content/drive/MyDrive/Traffic_Inter_Images/cars-city-traffic-daylight.jpg, Annotation: /content/drive/MyDrive/labels_custom-yolo-dataset_2024-04-10-08-20-58/cars-city-traffic-daylight.txt\n",
            "Image: /content/drive/MyDrive/Traffic_Inter_Images/cars-city-traffic-daylight (1).jpg, Annotation: /content/drive/MyDrive/labels_custom-yolo-dataset_2024-04-10-08-20-58/cars-city-traffic-daylight (1).txt\n",
            "Image: /content/drive/MyDrive/Traffic_Inter_Images/pexels-yura-forrat-12316588.jpg, Annotation: /content/drive/MyDrive/labels_custom-yolo-dataset_2024-04-10-08-20-58/pexels-yura-forrat-12316588.txt\n",
            "Image: /content/drive/MyDrive/Traffic_Inter_Images/pexels-antony-trivet-12919466.jpg, Annotation: /content/drive/MyDrive/labels_custom-yolo-dataset_2024-04-10-08-20-58/pexels-antony-trivet-12919466.txt\n",
            "Image: /content/drive/MyDrive/Traffic_Inter_Images/pexels-kelvin-12910710.jpg, Annotation: /content/drive/MyDrive/labels_custom-yolo-dataset_2024-04-10-08-20-58/pexels-kelvin-12910710.txt\n",
            "Image: /content/drive/MyDrive/Traffic_Inter_Images/pexels-amaury-michaux-15158169.jpg, Annotation: /content/drive/MyDrive/labels_custom-yolo-dataset_2024-04-10-08-20-58/pexels-amaury-michaux-15158169.txt\n",
            "Image: /content/drive/MyDrive/Traffic_Inter_Images/pexels-osamah-abdullah-16856996.jpg, Annotation: /content/drive/MyDrive/labels_custom-yolo-dataset_2024-04-10-08-20-58/pexels-osamah-abdullah-16856996.txt\n",
            "Image: /content/drive/MyDrive/Traffic_Inter_Images/pexels-mhajr-invincible-4212365.jpg, Annotation: /content/drive/MyDrive/labels_custom-yolo-dataset_2024-04-10-08-20-58/pexels-mhajr-invincible-4212365.txt\n",
            "Image: /content/drive/MyDrive/Traffic_Inter_Images/pexels-enes-türkoğlu-17277850.jpg, Annotation: /content/drive/MyDrive/labels_custom-yolo-dataset_2024-04-10-08-20-58/pexels-enes-türkoğlu-17277850.txt\n",
            "Image: /content/drive/MyDrive/Traffic_Inter_Images/pexels-hokusai-19102811.jpg, Annotation: /content/drive/MyDrive/labels_custom-yolo-dataset_2024-04-10-08-20-58/pexels-hokusai-19102811.txt\n",
            "Image: /content/drive/MyDrive/Traffic_Inter_Images/pexels-megan-(markham)-bucknall-2448734.jpg, Annotation: /content/drive/MyDrive/labels_custom-yolo-dataset_2024-04-10-08-20-58/pexels-megan-(markham)-bucknall-2448734.txt\n",
            "Image: /content/drive/MyDrive/Traffic_Inter_Images/istockphoto-521228007-1024x1024.jpg, Annotation: /content/drive/MyDrive/labels_custom-yolo-dataset_2024-04-10-08-20-58/istockphoto-521228007-1024x1024.txt\n",
            "Image: /content/drive/MyDrive/Traffic_Inter_Images/OIP.jpeg, Annotation: /content/drive/MyDrive/labels_custom-yolo-dataset_2024-04-10-08-20-58/OIP.txt\n",
            "Image: /content/drive/MyDrive/Traffic_Inter_Images/USDG-Chapter_INTERSECTION-DESIGN-ELEMENTS_1060x360_MinorIntersection_nycdot-960x326.jpg, Annotation: /content/drive/MyDrive/labels_custom-yolo-dataset_2024-04-10-08-20-58/USDG-Chapter_INTERSECTION-DESIGN-ELEMENTS_1060x360_MinorIntersection_nycdot-960x326.txt\n",
            "Total images with annotations: 50\n"
          ]
        }
      ]
    },
    {
      "cell_type": "code",
      "source": [
        "import os\n",
        "import cv2\n",
        "\n",
        "# paths\n",
        "image_directory = '/content/drive/MyDrive/Traffic_Inter_Images'\n",
        "annot_directory = '/content/drive/MyDrive/labels_custom-yolo-dataset_2024-04-10-08-20-58'\n",
        "\n",
        "# storing preprocessed data in the new directory\n",
        "preprocessed_image_directory = '/content/drive/MyDrive/Preprocessed_Images'\n",
        "preprocessed_annot_directory = '/content/drive/MyDrive/Preprocessed_Annotations'\n",
        "os.makedirs(preprocessed_image_directory, exist_ok=True)\n",
        "os.makedirs(preprocessed_annot_directory, exist_ok=True)\n",
        "\n",
        "\n",
        "for filename in os.listdir(image_directory):\n",
        "    if filename.endswith(('.jpg', '.jpeg', '.png', '.bmp')):\n",
        "        image_path = os.path.join(image_directory, filename)\n",
        "        annotation_path = os.path.join(annot_directory, os.path.splitext(filename)[0] + '.txt')\n",
        "        # check annotations\n",
        "        if os.path.exists(annotation_path):\n",
        "            # Image\n",
        "            image = cv2.imread(image_path)\n",
        "            # read annot file\n",
        "            with open(annotation_path, 'r') as file:\n",
        "                for line in file:\n",
        "                    # Parsing the annotations in the YOLO format\n",
        "                    class_id, x_center, y_center, width, height = map(float, line.split())\n",
        "                    # Convert relative coordinates to absolute coordinates\n",
        "                    img_height, img_width, _ = image.shape\n",
        "                    x_center_abs = int(x_center * img_width)\n",
        "                    y_center_abs = int(y_center * img_height)\n",
        "                    bbox_width = int(width * img_width)\n",
        "                    bbox_height = int(height * img_height)\n",
        "                    # top-left corner coordinates calc\n",
        "                    x1 = int(x_center_abs - bbox_width / 2)\n",
        "                    y1 = int(y_center_abs - bbox_height / 2)\n",
        "                    #  resize the image to a fixed size\n",
        "                    resized_image = cv2.resize(image, (224, 224))\n",
        "                    cv2.imwrite(os.path.join('/content/drive/MyDrive/Preprocessed_Images', filename), resized_image)\n",
        "                    # Save the annotation file as it is\n",
        "                    with open(os.path.join('/content/drive/MyDrive/Preprocessed_Annotations', os.path.splitext(filename)[0] + '.txt'), 'w') as annot_file:\n",
        "                        annot_file.write(line)\n",
        "        else:\n",
        "            print(f\"No annotation found for {filename}\")\n"
      ],
      "metadata": {
        "id": "31PR9TjVtfZH"
      },
      "execution_count": null,
      "outputs": []
    },
    {
      "cell_type": "code",
      "source": [
        "import os\n",
        "import cv2\n",
        "import numpy as np\n",
        "from tensorflow.keras.preprocessing.image import ImageDataGenerator\n",
        "from sklearn.model_selection import train_test_split\n",
        "\n",
        "prep_image_directory = '/content/drive/MyDrive/Traffic_Inter_Images'\n",
        "prep_annotation_directory = '/content/drive/MyDrive/Preprocessed_Annotations'\n",
        "\n",
        "#  data augmentation generator\n",
        "datagen = ImageDataGenerator(\n",
        "    rotation_range=20,\n",
        "    width_shift_range=0.1,\n",
        "    height_shift_range=0.1,\n",
        "    shear_range=0.2,\n",
        "    zoom_range=0.2,\n",
        "    horizontal_flip=True,\n",
        "    vertical_flip=False,\n",
        "    fill_mode='nearest'\n",
        ")\n",
        "\n",
        "#  lists to store image and annotation paths\n",
        "images = []\n",
        "annotations = []\n",
        "\n",
        "for filename in os.listdir(prep_image_directory):\n",
        "    if filename.endswith(('.jpg', '.jpeg', '.png', '.bmp')):\n",
        "        image_path = os.path.join(prep_image_directory, filename)\n",
        "        annotation_path = os.path.join(prep_annotation_directory, os.path.splitext(filename)[0] + '.txt')\n",
        "\n",
        "        # Check if annotation file exists\n",
        "        if os.path.exists(annotation_path):\n",
        "            images.append(image_path)\n",
        "            annotations.append(annotation_path)\n",
        "\n",
        "train_images, test_images, train_annotations, test_annotations = train_test_split(images, annotations, test_size=0.2, random_state=42)\n",
        "train_images, val_images, train_annotations, val_annotations = train_test_split(train_images, train_annotations, test_size=0.1, random_state=42)\n",
        "\n",
        "# Function to perform data augmentation and save images\n",
        "def augment_and_save_images(image_paths, annotation_paths, target_directory):\n",
        "    for image_path, annotation_path in zip(image_paths, annotation_paths):\n",
        "        image_name = os.path.basename(image_path)\n",
        "        annotation_name = os.path.basename(annotation_path)\n",
        "        image = cv2.imread(image_path)\n",
        "        image = np.expand_dims(image, axis=0)\n",
        "        it = datagen.flow(image, batch_size=1)\n",
        "        for i in range(9):\n",
        "            augmented_image = it.next()[0].astype('uint8')\n",
        "            augmented_image_name = os.path.splitext(image_name)[0] + f'_augmented_{i+1}.jpg'\n",
        "            augmented_image_path = os.path.join(target_directory, augmented_image_name)\n",
        "            cv2.imwrite(augmented_image_path, augmented_image)\n",
        "\n",
        "# Augment and save images for training set\n",
        "augment_and_save_images(train_images, train_annotations, prep_image_directory)\n",
        "print(\"Augmented images generated for training set.\")\n",
        "\n",
        "# Augment and save images for validation set\n",
        "augment_and_save_images(val_images, val_annotations, prep_image_directory)\n",
        "print(\"Augmented images generated for validation set.\")\n",
        "\n",
        "# Augment and save images for test set\n",
        "augment_and_save_images(test_images, test_annotations, prep_image_directory)\n",
        "print(\"Augmented images generated for test set.\")\n"
      ],
      "metadata": {
        "colab": {
          "base_uri": "https://localhost:8080/"
        },
        "id": "mGcTt-IXvTnP",
        "outputId": "12e3f752-206e-4ba5-b357-69d8f0888a21"
      },
      "execution_count": null,
      "outputs": [
        {
          "output_type": "stream",
          "name": "stdout",
          "text": [
            "Augmented images generated for training set.\n",
            "Augmented images generated for validation set.\n",
            "Augmented images generated for test set.\n"
          ]
        }
      ]
    },
    {
      "cell_type": "code",
      "source": [],
      "metadata": {
        "colab": {
          "base_uri": "https://localhost:8080/",
          "height": 331
        },
        "id": "2B3wRKqw2iKc",
        "outputId": "d6363c35-4866-4ba4-cce7-3548f3104ce3"
      },
      "execution_count": null,
      "outputs": [
        {
          "output_type": "error",
          "ename": "ModuleNotFoundError",
          "evalue": "No module named 'yolov8'",
          "traceback": [
            "\u001b[0;31m---------------------------------------------------------------------------\u001b[0m",
            "\u001b[0;31mModuleNotFoundError\u001b[0m                       Traceback (most recent call last)",
            "\u001b[0;32m<ipython-input-12-517785c0f277>\u001b[0m in \u001b[0;36m<cell line: 2>\u001b[0;34m()\u001b[0m\n\u001b[1;32m      1\u001b[0m \u001b[0;32mimport\u001b[0m \u001b[0mtensorflow\u001b[0m \u001b[0;32mas\u001b[0m \u001b[0mtf\u001b[0m\u001b[0;34m\u001b[0m\u001b[0;34m\u001b[0m\u001b[0m\n\u001b[0;32m----> 2\u001b[0;31m \u001b[0;32mfrom\u001b[0m \u001b[0myolov8\u001b[0m\u001b[0;34m.\u001b[0m\u001b[0mtf\u001b[0m \u001b[0;32mimport\u001b[0m \u001b[0mSaveModel\u001b[0m\u001b[0;34m,\u001b[0m \u001b[0mYOLOv8\u001b[0m\u001b[0;34m\u001b[0m\u001b[0;34m\u001b[0m\u001b[0m\n\u001b[0m",
            "\u001b[0;31mModuleNotFoundError\u001b[0m: No module named 'yolov8'",
            "",
            "\u001b[0;31m---------------------------------------------------------------------------\u001b[0;32m\nNOTE: If your import is failing due to a missing package, you can\nmanually install dependencies using either !pip or !apt.\n\nTo view examples of installing some common dependencies, click the\n\"Open Examples\" button below.\n\u001b[0;31m---------------------------------------------------------------------------\u001b[0m\n"
          ],
          "errorDetails": {
            "actions": [
              {
                "action": "open_url",
                "actionText": "Open Examples",
                "url": "/notebooks/snippets/importing_libraries.ipynb"
              }
            ]
          }
        }
      ]
    }
  ]
}