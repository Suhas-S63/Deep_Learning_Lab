{
 "cells": [
  {
   "cell_type": "markdown",
   "metadata": {},
   "source": [
    "## Credit Card Fraud Detection with Multi-Layer Perceptron"
   ]
  },
  {
   "cell_type": "markdown",
   "metadata": {},
   "source": [
    "### Importing datasets"
   ]
  },
  {
   "cell_type": "code",
   "execution_count": 1,
   "metadata": {},
   "outputs": [],
   "source": [
    "import pandas as pd\n",
    "import matplotlib.pyplot as plt\n",
    "import numpy as np\n",
    "\n",
    "# Specify dtypes while reading CSV files\n",
    "cr_data_test = pd.read_csv('CreditFraudDataset\\CreditFraudTest.csv', dtype={'cc_num': 'int64', 'unix_time': 'int64', 'is_fraud': 'int64'})\n",
    "cr_data_train = pd.read_csv('CreditFraudDataset\\CreditFraudTrain.csv', dtype={'cc_num': 'int64', 'unix_time': 'int64', 'is_fraud': 'int64'})\n",
    "\n"
   ]
  },
  {
   "cell_type": "code",
   "execution_count": 2,
   "metadata": {},
   "outputs": [
    {
     "data": {
      "text/html": [
       "<div>\n",
       "<style scoped>\n",
       "    .dataframe tbody tr th:only-of-type {\n",
       "        vertical-align: middle;\n",
       "    }\n",
       "\n",
       "    .dataframe tbody tr th {\n",
       "        vertical-align: top;\n",
       "    }\n",
       "\n",
       "    .dataframe thead th {\n",
       "        text-align: right;\n",
       "    }\n",
       "</style>\n",
       "<table border=\"1\" class=\"dataframe\">\n",
       "  <thead>\n",
       "    <tr style=\"text-align: right;\">\n",
       "      <th></th>\n",
       "      <th>trans_date_trans_time</th>\n",
       "      <th>cc_num</th>\n",
       "      <th>merchant</th>\n",
       "      <th>category</th>\n",
       "      <th>amt</th>\n",
       "      <th>first</th>\n",
       "      <th>last</th>\n",
       "      <th>gender</th>\n",
       "      <th>street</th>\n",
       "      <th>city</th>\n",
       "      <th>...</th>\n",
       "      <th>lat</th>\n",
       "      <th>long</th>\n",
       "      <th>city_pop</th>\n",
       "      <th>job</th>\n",
       "      <th>dob</th>\n",
       "      <th>trans_num</th>\n",
       "      <th>unix_time</th>\n",
       "      <th>merch_lat</th>\n",
       "      <th>merch_long</th>\n",
       "      <th>is_fraud</th>\n",
       "    </tr>\n",
       "  </thead>\n",
       "  <tbody>\n",
       "    <tr>\n",
       "      <th>0</th>\n",
       "      <td>6/21/2020 12:14</td>\n",
       "      <td>2291160000000000</td>\n",
       "      <td>fraud_Kirlin and Sons</td>\n",
       "      <td>personal_care</td>\n",
       "      <td>2.86</td>\n",
       "      <td>Jeff</td>\n",
       "      <td>Elliott</td>\n",
       "      <td>M</td>\n",
       "      <td>351 Darlene Green</td>\n",
       "      <td>Columbia</td>\n",
       "      <td>...</td>\n",
       "      <td>33.9659</td>\n",
       "      <td>-80.9355</td>\n",
       "      <td>333497</td>\n",
       "      <td>Mechanical engineer</td>\n",
       "      <td>3/19/1968</td>\n",
       "      <td>2da90c7d74bd46a0caf3777415b3ebd3</td>\n",
       "      <td>1371816865</td>\n",
       "      <td>33.986391</td>\n",
       "      <td>-81.200714</td>\n",
       "      <td>0</td>\n",
       "    </tr>\n",
       "    <tr>\n",
       "      <th>1</th>\n",
       "      <td>6/21/2020 12:14</td>\n",
       "      <td>3573030000000000</td>\n",
       "      <td>fraud_Sporer-Keebler</td>\n",
       "      <td>personal_care</td>\n",
       "      <td>29.84</td>\n",
       "      <td>Joanne</td>\n",
       "      <td>Williams</td>\n",
       "      <td>F</td>\n",
       "      <td>3638 Marsh Union</td>\n",
       "      <td>Altonah</td>\n",
       "      <td>...</td>\n",
       "      <td>40.3207</td>\n",
       "      <td>-110.4360</td>\n",
       "      <td>302</td>\n",
       "      <td>Sales professional, IT</td>\n",
       "      <td>1/17/1990</td>\n",
       "      <td>324cc204407e99f51b0d6ca0055005e7</td>\n",
       "      <td>1371816873</td>\n",
       "      <td>39.450498</td>\n",
       "      <td>-109.960431</td>\n",
       "      <td>0</td>\n",
       "    </tr>\n",
       "    <tr>\n",
       "      <th>2</th>\n",
       "      <td>6/21/2020 12:14</td>\n",
       "      <td>3598220000000000</td>\n",
       "      <td>fraud_Swaniawski, Nitzsche and Welch</td>\n",
       "      <td>health_fitness</td>\n",
       "      <td>41.28</td>\n",
       "      <td>Ashley</td>\n",
       "      <td>Lopez</td>\n",
       "      <td>F</td>\n",
       "      <td>9333 Valentine Point</td>\n",
       "      <td>Bellmore</td>\n",
       "      <td>...</td>\n",
       "      <td>40.6729</td>\n",
       "      <td>-73.5365</td>\n",
       "      <td>34496</td>\n",
       "      <td>Librarian, public</td>\n",
       "      <td>10/21/1970</td>\n",
       "      <td>c81755dbbbea9d5c77f094348a7579be</td>\n",
       "      <td>1371816893</td>\n",
       "      <td>40.495810</td>\n",
       "      <td>-74.196111</td>\n",
       "      <td>0</td>\n",
       "    </tr>\n",
       "    <tr>\n",
       "      <th>3</th>\n",
       "      <td>6/21/2020 12:15</td>\n",
       "      <td>3591920000000000</td>\n",
       "      <td>fraud_Haley Group</td>\n",
       "      <td>misc_pos</td>\n",
       "      <td>60.05</td>\n",
       "      <td>Brian</td>\n",
       "      <td>Williams</td>\n",
       "      <td>M</td>\n",
       "      <td>32941 Krystal Mill Apt. 552</td>\n",
       "      <td>Titusville</td>\n",
       "      <td>...</td>\n",
       "      <td>28.5697</td>\n",
       "      <td>-80.8191</td>\n",
       "      <td>54767</td>\n",
       "      <td>Set designer</td>\n",
       "      <td>7/25/1987</td>\n",
       "      <td>2159175b9efe66dc301f149d3d5abf8c</td>\n",
       "      <td>1371816915</td>\n",
       "      <td>28.812398</td>\n",
       "      <td>-80.883061</td>\n",
       "      <td>0</td>\n",
       "    </tr>\n",
       "    <tr>\n",
       "      <th>4</th>\n",
       "      <td>6/21/2020 12:15</td>\n",
       "      <td>3526830000000000</td>\n",
       "      <td>fraud_Johnston-Casper</td>\n",
       "      <td>travel</td>\n",
       "      <td>3.19</td>\n",
       "      <td>Nathan</td>\n",
       "      <td>Massey</td>\n",
       "      <td>M</td>\n",
       "      <td>5783 Evan Roads Apt. 465</td>\n",
       "      <td>Falmouth</td>\n",
       "      <td>...</td>\n",
       "      <td>44.2529</td>\n",
       "      <td>-85.0170</td>\n",
       "      <td>1126</td>\n",
       "      <td>Furniture designer</td>\n",
       "      <td>7/6/1955</td>\n",
       "      <td>57ff021bd3f328f8738bb535c302a31b</td>\n",
       "      <td>1371816917</td>\n",
       "      <td>44.959148</td>\n",
       "      <td>-85.884734</td>\n",
       "      <td>0</td>\n",
       "    </tr>\n",
       "  </tbody>\n",
       "</table>\n",
       "<p>5 rows × 22 columns</p>\n",
       "</div>"
      ],
      "text/plain": [
       "  trans_date_trans_time            cc_num  \\\n",
       "0       6/21/2020 12:14  2291160000000000   \n",
       "1       6/21/2020 12:14  3573030000000000   \n",
       "2       6/21/2020 12:14  3598220000000000   \n",
       "3       6/21/2020 12:15  3591920000000000   \n",
       "4       6/21/2020 12:15  3526830000000000   \n",
       "\n",
       "                               merchant        category    amt   first  \\\n",
       "0                 fraud_Kirlin and Sons   personal_care   2.86    Jeff   \n",
       "1                  fraud_Sporer-Keebler   personal_care  29.84  Joanne   \n",
       "2  fraud_Swaniawski, Nitzsche and Welch  health_fitness  41.28  Ashley   \n",
       "3                     fraud_Haley Group        misc_pos  60.05   Brian   \n",
       "4                 fraud_Johnston-Casper          travel   3.19  Nathan   \n",
       "\n",
       "       last gender                       street        city  ...      lat  \\\n",
       "0   Elliott      M            351 Darlene Green    Columbia  ...  33.9659   \n",
       "1  Williams      F             3638 Marsh Union     Altonah  ...  40.3207   \n",
       "2     Lopez      F         9333 Valentine Point    Bellmore  ...  40.6729   \n",
       "3  Williams      M  32941 Krystal Mill Apt. 552  Titusville  ...  28.5697   \n",
       "4    Massey      M     5783 Evan Roads Apt. 465    Falmouth  ...  44.2529   \n",
       "\n",
       "       long  city_pop                     job         dob  \\\n",
       "0  -80.9355    333497     Mechanical engineer   3/19/1968   \n",
       "1 -110.4360       302  Sales professional, IT   1/17/1990   \n",
       "2  -73.5365     34496       Librarian, public  10/21/1970   \n",
       "3  -80.8191     54767            Set designer   7/25/1987   \n",
       "4  -85.0170      1126      Furniture designer    7/6/1955   \n",
       "\n",
       "                          trans_num   unix_time  merch_lat  merch_long  \\\n",
       "0  2da90c7d74bd46a0caf3777415b3ebd3  1371816865  33.986391  -81.200714   \n",
       "1  324cc204407e99f51b0d6ca0055005e7  1371816873  39.450498 -109.960431   \n",
       "2  c81755dbbbea9d5c77f094348a7579be  1371816893  40.495810  -74.196111   \n",
       "3  2159175b9efe66dc301f149d3d5abf8c  1371816915  28.812398  -80.883061   \n",
       "4  57ff021bd3f328f8738bb535c302a31b  1371816917  44.959148  -85.884734   \n",
       "\n",
       "   is_fraud  \n",
       "0         0  \n",
       "1         0  \n",
       "2         0  \n",
       "3         0  \n",
       "4         0  \n",
       "\n",
       "[5 rows x 22 columns]"
      ]
     },
     "execution_count": 2,
     "metadata": {},
     "output_type": "execute_result"
    }
   ],
   "source": [
    "cr_data_test.head()\n"
   ]
  },
  {
   "cell_type": "code",
   "execution_count": 3,
   "metadata": {},
   "outputs": [
    {
     "name": "stdout",
     "output_type": "stream",
     "text": [
      "0    553574\n",
      "1      2145\n",
      "Name: is_fraud, dtype: int64\n",
      "0    1042569\n",
      "1       6006\n",
      "Name: is_fraud, dtype: int64\n"
     ]
    }
   ],
   "source": [
    "print(cr_data_test['is_fraud'].value_counts())\n",
    "print(cr_data_train['is_fraud'].value_counts())"
   ]
  },
  {
   "cell_type": "code",
   "execution_count": 4,
   "metadata": {},
   "outputs": [
    {
     "data": {
      "image/png": "[encoded data removed]",
      "text/plain": [
       "<Figure size 640x480 with 1 Axes>"
      ]
     },
     "metadata": {},
     "output_type": "display_data"
    }
   ],
   "source": [
    "# Create data\n",
    "labels = 'Fraud', 'No Fraud'\n",
    "sizes = [cr_data_test['is_fraud'].value_counts()[1], cr_data_test['is_fraud'].value_counts()[0]]\n",
    "\n",
    "# Plot data\n",
    "plt.pie(sizes, labels=labels, autopct='%1.1f%%')\n",
    "plt.show()"
   ]
  },
  {
   "cell_type": "code",
   "execution_count": 5,
   "metadata": {},
   "outputs": [
    {
     "data": {
      "image/png": "[encoded data removed]",
      "text/plain": [
       "<Figure size 640x480 with 1 Axes>"
      ]
     },
     "metadata": {},
     "output_type": "display_data"
    }
   ],
   "source": [
    "# Create data\n",
    "labels = 'Fraud', 'No Fraud'\n",
    "sizes = [cr_data_train['is_fraud'].value_counts()[1], cr_data_train['is_fraud'].value_counts()[0]]\n",
    "\n",
    "# Plot data\n",
    "plt.pie(sizes, labels=labels, autopct='%1.1f%%')\n",
    "plt.show()"
   ]
  },
  {
   "cell_type": "markdown",
   "metadata": {},
   "source": [
    "### Preprocessing and Analysis"
   ]
  },
  {
   "cell_type": "code",
   "execution_count": 6,
   "metadata": {},
   "outputs": [
    {
     "name": "stdout",
     "output_type": "stream",
     "text": [
      "Index(['trans_date_trans_time', 'cc_num', 'merchant', 'category', 'amt',\n",
      "       'first', 'last', 'gender', 'street', 'city', 'state', 'zip', 'lat',\n",
      "       'long', 'city_pop', 'job', 'dob', 'trans_num', 'unix_time', 'merch_lat',\n",
      "       'merch_long', 'is_fraud'],\n",
      "      dtype='object')\n"
     ]
    }
   ],
   "source": [
    "print(cr_data_test.columns)"
   ]
  },
  {
   "cell_type": "code",
   "execution_count": 7,
   "metadata": {},
   "outputs": [],
   "source": [
    "from sklearn.preprocessing import StandardScaler,LabelEncoder\n",
    "\n",
    "cr_data_test.drop(columns=['first','last','gender','lat','long','city_pop','street','city','state','job','zip','dob','merch_lat','merch_long'], inplace=True)\n",
    "cr_data_train.drop(columns=['first','last','gender','lat','long','city_pop','city','street','state','job','dob','zip','merch_lat','merch_long'] ,inplace=True)\n"
   ]
  },
  {
   "cell_type": "code",
   "execution_count": 8,
   "metadata": {},
   "outputs": [
    {
     "name": "stdout",
     "output_type": "stream",
     "text": [
      "trans_date_trans_time    0\n",
      "cc_num                   0\n",
      "merchant                 0\n",
      "category                 0\n",
      "amt                      0\n",
      "trans_num                0\n",
      "unix_time                0\n",
      "is_fraud                 0\n",
      "dtype: int64\n",
      "trans_date_trans_time    0\n",
      "cc_num                   0\n",
      "merchant                 0\n",
      "category                 0\n",
      "amt                      0\n",
      "trans_num                0\n",
      "unix_time                0\n",
      "is_fraud                 0\n",
      "dtype: int64\n"
     ]
    }
   ],
   "source": [
    "print(cr_data_test.isnull().sum())\n",
    "print(cr_data_train.isnull().sum())"
   ]
  },
  {
   "cell_type": "markdown",
   "metadata": {},
   "source": [
    "No missing data in the data set\n"
   ]
  },
  {
   "cell_type": "code",
   "execution_count": 9,
   "metadata": {},
   "outputs": [
    {
     "data": {
      "text/html": [
       "<div>\n",
       "<style scoped>\n",
       "    .dataframe tbody tr th:only-of-type {\n",
       "        vertical-align: middle;\n",
       "    }\n",
       "\n",
       "    .dataframe tbody tr th {\n",
       "        vertical-align: top;\n",
       "    }\n",
       "\n",
       "    .dataframe thead th {\n",
       "        text-align: right;\n",
       "    }\n",
       "</style>\n",
       "<table border=\"1\" class=\"dataframe\">\n",
       "  <thead>\n",
       "    <tr style=\"text-align: right;\">\n",
       "      <th></th>\n",
       "      <th>trans_date_trans_time</th>\n",
       "      <th>cc_num</th>\n",
       "      <th>merchant</th>\n",
       "      <th>category</th>\n",
       "      <th>amt</th>\n",
       "      <th>trans_num</th>\n",
       "      <th>unix_time</th>\n",
       "      <th>is_fraud</th>\n",
       "    </tr>\n",
       "  </thead>\n",
       "  <tbody>\n",
       "    <tr>\n",
       "      <th>0</th>\n",
       "      <td>1/1/2019 0:00</td>\n",
       "      <td>2703190000000000</td>\n",
       "      <td>fraud_Rippin, Kub and Mann</td>\n",
       "      <td>misc_net</td>\n",
       "      <td>4.97</td>\n",
       "      <td>0b242abb623afc578575680df30655b9</td>\n",
       "      <td>1325376018</td>\n",
       "      <td>0</td>\n",
       "    </tr>\n",
       "    <tr>\n",
       "      <th>1</th>\n",
       "      <td>1/1/2019 0:00</td>\n",
       "      <td>630423000000</td>\n",
       "      <td>fraud_Heller, Gutmann and Zieme</td>\n",
       "      <td>grocery_pos</td>\n",
       "      <td>107.23</td>\n",
       "      <td>1f76529f8574734946361c461b024d99</td>\n",
       "      <td>1325376044</td>\n",
       "      <td>0</td>\n",
       "    </tr>\n",
       "    <tr>\n",
       "      <th>2</th>\n",
       "      <td>1/1/2019 0:00</td>\n",
       "      <td>38859500000000</td>\n",
       "      <td>fraud_Lind-Buckridge</td>\n",
       "      <td>entertainment</td>\n",
       "      <td>220.11</td>\n",
       "      <td>a1a22d70485983eac12b5b88dad1cf95</td>\n",
       "      <td>1325376051</td>\n",
       "      <td>0</td>\n",
       "    </tr>\n",
       "    <tr>\n",
       "      <th>3</th>\n",
       "      <td>1/1/2019 0:01</td>\n",
       "      <td>3534090000000000</td>\n",
       "      <td>fraud_Kutch, Hermiston and Farrell</td>\n",
       "      <td>gas_transport</td>\n",
       "      <td>45.00</td>\n",
       "      <td>6b849c168bdad6f867558c3793159a81</td>\n",
       "      <td>1325376076</td>\n",
       "      <td>0</td>\n",
       "    </tr>\n",
       "    <tr>\n",
       "      <th>4</th>\n",
       "      <td>1/1/2019 0:03</td>\n",
       "      <td>375534000000000</td>\n",
       "      <td>fraud_Keeling-Crist</td>\n",
       "      <td>misc_pos</td>\n",
       "      <td>41.96</td>\n",
       "      <td>a41d7549acf90789359a9aa5346dcb46</td>\n",
       "      <td>1325376186</td>\n",
       "      <td>0</td>\n",
       "    </tr>\n",
       "  </tbody>\n",
       "</table>\n",
       "</div>"
      ],
      "text/plain": [
       "  trans_date_trans_time            cc_num                            merchant  \\\n",
       "0         1/1/2019 0:00  2703190000000000          fraud_Rippin, Kub and Mann   \n",
       "1         1/1/2019 0:00      630423000000     fraud_Heller, Gutmann and Zieme   \n",
       "2         1/1/2019 0:00    38859500000000                fraud_Lind-Buckridge   \n",
       "3         1/1/2019 0:01  3534090000000000  fraud_Kutch, Hermiston and Farrell   \n",
       "4         1/1/2019 0:03   375534000000000                 fraud_Keeling-Crist   \n",
       "\n",
       "        category     amt                         trans_num   unix_time  \\\n",
       "0       misc_net    4.97  0b242abb623afc578575680df30655b9  1325376018   \n",
       "1    grocery_pos  107.23  1f76529f8574734946361c461b024d99  1325376044   \n",
       "2  entertainment  220.11  a1a22d70485983eac12b5b88dad1cf95  1325376051   \n",
       "3  gas_transport   45.00  6b849c168bdad6f867558c3793159a81  1325376076   \n",
       "4       misc_pos   41.96  a41d7549acf90789359a9aa5346dcb46  1325376186   \n",
       "\n",
       "   is_fraud  \n",
       "0         0  \n",
       "1         0  \n",
       "2         0  \n",
       "3         0  \n",
       "4         0  "
      ]
     },
     "execution_count": 9,
     "metadata": {},
     "output_type": "execute_result"
    }
   ],
   "source": [
    "cr_data_train.head()"
   ]
  },
  {
   "cell_type": "code",
   "execution_count": 10,
   "metadata": {},
   "outputs": [],
   "source": [
    "\n",
    "int_columns = ['cc_num', 'unix_time', 'is_fraud']\n",
    "encode_columns = ['merchant', 'category']\n",
    "scale_columns = ['amt', 'unix_time']\n",
    "\n",
    "\n",
    "# Convert trans_date_trans_time to datetime\n",
    "cr_data_train['trans_date_trans_time'] = pd.to_datetime(cr_data_train['trans_date_trans_time'])\n",
    "cr_data_test['trans_date_trans_time'] = pd.to_datetime(cr_data_test['trans_date_trans_time'])\n",
    "\n",
    "\n",
    "cr_data_train['hour'] = cr_data_train['trans_date_trans_time'].dt.hour\n",
    "cr_data_train['day'] = cr_data_train['trans_date_trans_time'].dt.day\n",
    "cr_data_train['month'] = cr_data_train['trans_date_trans_time'].dt.month\n",
    "cr_data_train['year'] = cr_data_train['trans_date_trans_time'].dt.year\n",
    "\n",
    "cr_data_test['hour'] = cr_data_test['trans_date_trans_time'].dt.hour\n",
    "cr_data_test['day'] = cr_data_test['trans_date_trans_time'].dt.day\n",
    "cr_data_test['month'] = cr_data_test['trans_date_trans_time'].dt.month\n",
    "cr_data_test['year'] = cr_data_test['trans_date_trans_time'].dt.year\n",
    "\n",
    "cr_data_train.drop(columns=['trans_date_trans_time','trans_num'], inplace=True)\n",
    "cr_data_test.drop(columns=['trans_date_trans_time','trans_num'], inplace=True)\n",
    "\n",
    "cr_data_train.drop\n",
    "\n",
    "\n",
    "# Label encoding\n",
    "for col in encode_columns:\n",
    "    le = LabelEncoder()\n",
    "    cr_data_train[col] = le.fit_transform(cr_data_train[col])\n",
    "    cr_data_test[col] = le.transform(cr_data_test[col])\n",
    "\n",
    "# Standard scaling\n",
    "scaler = StandardScaler()\n",
    "cr_data_train[scale_columns] = scaler.fit_transform(cr_data_train[scale_columns])\n",
    "cr_data_test[scale_columns] = scaler.transform(cr_data_test[scale_columns])\n"
   ]
  },
  {
   "cell_type": "code",
   "execution_count": 11,
   "metadata": {},
   "outputs": [],
   "source": [
    "#Splitting the dataset \n",
    "X_train = cr_data_train.drop(columns=['is_fraud'])\n",
    "Y_train = cr_data_train['is_fraud']\n",
    "\n",
    "X_test = cr_data_test.drop(columns=['is_fraud'])\n",
    "Y_test = cr_data_test['is_fraud']"
   ]
  },
  {
   "cell_type": "code",
   "execution_count": 12,
   "metadata": {},
   "outputs": [
    {
     "name": "stdout",
     "output_type": "stream",
     "text": [
      "cc_num         int64\n",
      "merchant       int32\n",
      "category       int32\n",
      "amt          float64\n",
      "unix_time    float64\n",
      "is_fraud       int64\n",
      "hour           int64\n",
      "day            int64\n",
      "month          int64\n",
      "year           int64\n",
      "dtype: object\n"
     ]
    }
   ],
   "source": [
    "print(cr_data_train.dtypes)"
   ]
  },
  {
   "cell_type": "code",
   "execution_count": 13,
   "metadata": {},
   "outputs": [
    {
     "data": {
      "text/html": [
       "<div>\n",
       "<style scoped>\n",
       "    .dataframe tbody tr th:only-of-type {\n",
       "        vertical-align: middle;\n",
       "    }\n",
       "\n",
       "    .dataframe tbody tr th {\n",
       "        vertical-align: top;\n",
       "    }\n",
       "\n",
       "    .dataframe thead th {\n",
       "        text-align: right;\n",
       "    }\n",
       "</style>\n",
       "<table border=\"1\" class=\"dataframe\">\n",
       "  <thead>\n",
       "    <tr style=\"text-align: right;\">\n",
       "      <th></th>\n",
       "      <th>cc_num</th>\n",
       "      <th>merchant</th>\n",
       "      <th>category</th>\n",
       "      <th>amt</th>\n",
       "      <th>unix_time</th>\n",
       "      <th>is_fraud</th>\n",
       "      <th>hour</th>\n",
       "      <th>day</th>\n",
       "      <th>month</th>\n",
       "      <th>year</th>\n",
       "    </tr>\n",
       "  </thead>\n",
       "  <tbody>\n",
       "    <tr>\n",
       "      <th>0</th>\n",
       "      <td>2703190000000000</td>\n",
       "      <td>514</td>\n",
       "      <td>8</td>\n",
       "      <td>-0.408305</td>\n",
       "      <td>-1.915252</td>\n",
       "      <td>0</td>\n",
       "      <td>0</td>\n",
       "      <td>1</td>\n",
       "      <td>1</td>\n",
       "      <td>2019</td>\n",
       "    </tr>\n",
       "    <tr>\n",
       "      <th>1</th>\n",
       "      <td>630423000000</td>\n",
       "      <td>241</td>\n",
       "      <td>4</td>\n",
       "      <td>0.231013</td>\n",
       "      <td>-1.915250</td>\n",
       "      <td>0</td>\n",
       "      <td>0</td>\n",
       "      <td>1</td>\n",
       "      <td>1</td>\n",
       "      <td>2019</td>\n",
       "    </tr>\n",
       "    <tr>\n",
       "      <th>2</th>\n",
       "      <td>38859500000000</td>\n",
       "      <td>390</td>\n",
       "      <td>0</td>\n",
       "      <td>0.936726</td>\n",
       "      <td>-1.915249</td>\n",
       "      <td>0</td>\n",
       "      <td>0</td>\n",
       "      <td>1</td>\n",
       "      <td>1</td>\n",
       "      <td>2019</td>\n",
       "    </tr>\n",
       "    <tr>\n",
       "      <th>3</th>\n",
       "      <td>3534090000000000</td>\n",
       "      <td>360</td>\n",
       "      <td>2</td>\n",
       "      <td>-0.158042</td>\n",
       "      <td>-1.915247</td>\n",
       "      <td>0</td>\n",
       "      <td>0</td>\n",
       "      <td>1</td>\n",
       "      <td>1</td>\n",
       "      <td>2019</td>\n",
       "    </tr>\n",
       "    <tr>\n",
       "      <th>4</th>\n",
       "      <td>375534000000000</td>\n",
       "      <td>297</td>\n",
       "      <td>9</td>\n",
       "      <td>-0.177048</td>\n",
       "      <td>-1.915236</td>\n",
       "      <td>0</td>\n",
       "      <td>0</td>\n",
       "      <td>1</td>\n",
       "      <td>1</td>\n",
       "      <td>2019</td>\n",
       "    </tr>\n",
       "  </tbody>\n",
       "</table>\n",
       "</div>"
      ],
      "text/plain": [
       "             cc_num  merchant  category       amt  unix_time  is_fraud  hour  \\\n",
       "0  2703190000000000       514         8 -0.408305  -1.915252         0     0   \n",
       "1      630423000000       241         4  0.231013  -1.915250         0     0   \n",
       "2    38859500000000       390         0  0.936726  -1.915249         0     0   \n",
       "3  3534090000000000       360         2 -0.158042  -1.915247         0     0   \n",
       "4   375534000000000       297         9 -0.177048  -1.915236         0     0   \n",
       "\n",
       "   day  month  year  \n",
       "0    1      1  2019  \n",
       "1    1      1  2019  \n",
       "2    1      1  2019  \n",
       "3    1      1  2019  \n",
       "4    1      1  2019  "
      ]
     },
     "execution_count": 13,
     "metadata": {},
     "output_type": "execute_result"
    }
   ],
   "source": [
    "cr_data_train.head()"
   ]
  },
  {
   "cell_type": "markdown",
   "metadata": {},
   "source": [
    "### Creating a Multi-Layer Perceptron Model architecture"
   ]
  },
  {
   "cell_type": "code",
   "execution_count": 18,
   "metadata": {},
   "outputs": [],
   "source": [
    "import tensorflow as tf\n",
    "\n",
    "#MLP model\n",
    "fraud_model = tf.keras.models.Sequential([\n",
    "    tf.keras.layers.Dense(6, activation='relu', input_shape=(9,)), # 9 input shape because we have 10 features in it\n",
    "    tf.keras.layers.Dense(3, activation='relu'),\n",
    "    tf.keras.layers.Dense(1, activation='sigmoid') # Sigmoid activation fuction at the output layer for binary classification\n",
    "])\n"
   ]
  },
  {
   "cell_type": "markdown",
   "metadata": {},
   "source": [
    "\n",
    "#### Model compilation to configure the model for training"
   ]
  },
  {
   "cell_type": "code",
   "execution_count": 19,
   "metadata": {},
   "outputs": [],
   "source": [
    "# Compile the model\n",
    "fraud_model.compile(optimizer='SGD', loss='MSE', metrics=['accuracy'])"
   ]
  },
  {
   "cell_type": "code",
   "execution_count": 20,
   "metadata": {},
   "outputs": [
    {
     "name": "stdout",
     "output_type": "stream",
     "text": [
      "cc_num         int64\n",
      "merchant       int32\n",
      "category       int32\n",
      "amt          float64\n",
      "unix_time    float64\n",
      "is_fraud       int64\n",
      "hour           int64\n",
      "day            int64\n",
      "month          int64\n",
      "year           int64\n",
      "dtype: object\n"
     ]
    }
   ],
   "source": [
    "print(cr_data_train.dtypes)"
   ]
  },
  {
   "cell_type": "code",
   "execution_count": 21,
   "metadata": {},
   "outputs": [
    {
     "name": "stdout",
     "output_type": "stream",
     "text": [
      "Epoch 1/10\n",
      "32768/32768 [==============================] - 84s 3ms/step - loss: 0.0121 - accuracy: 0.9943\n",
      "Epoch 2/10\n",
      "32768/32768 [==============================] - 87s 3ms/step - loss: 0.0061 - accuracy: 0.9943\n",
      "Epoch 3/10\n",
      "32768/32768 [==============================] - 79s 2ms/step - loss: 0.0059 - accuracy: 0.9943\n",
      "Epoch 4/10\n",
      "32768/32768 [==============================] - 34s 1ms/step - loss: 0.0058 - accuracy: 0.9943\n",
      "Epoch 5/10\n",
      "32768/32768 [==============================] - 34s 1ms/step - loss: 0.0058 - accuracy: 0.9943\n",
      "Epoch 6/10\n",
      "32768/32768 [==============================] - 34s 1ms/step - loss: 0.0058 - accuracy: 0.9943\n",
      "Epoch 7/10\n",
      "32768/32768 [==============================] - 36s 1ms/step - loss: 0.0058 - accuracy: 0.9943\n",
      "Epoch 8/10\n",
      "32768/32768 [==============================] - 36s 1ms/step - loss: 0.0057 - accuracy: 0.9943\n",
      "Epoch 9/10\n",
      "32768/32768 [==============================] - 37s 1ms/step - loss: 0.0057 - accuracy: 0.9943\n",
      "Epoch 10/10\n",
      "32768/32768 [==============================] - 38s 1ms/step - loss: 0.0057 - accuracy: 0.9943\n"
     ]
    }
   ],
   "source": [
    "# Model training\n",
    "trained_fraud_model = fraud_model.fit(X_train, Y_train, epochs=10, batch_size=32)"
   ]
  },
  {
   "cell_type": "markdown",
   "metadata": {},
   "source": [
    "#### Testing the model Prediction performance"
   ]
  },
  {
   "cell_type": "code",
   "execution_count": 22,
   "metadata": {},
   "outputs": [],
   "source": [
    "testing_predictions = fraud_model.predict(X_test)\n",
    "testing_predictions_decisons = (testing_predictions > 0.5).astype(\"int32\")"
   ]
  },
  {
   "cell_type": "markdown",
   "metadata": {},
   "source": [
    "#### Model evaluation metrics"
   ]
  },
  {
   "cell_type": "code",
   "execution_count": 26,
   "metadata": {},
   "outputs": [
    {
     "name": "stderr",
     "output_type": "stream",
     "text": [
      "c:\\Users\\suhas\\anaconda3\\envs\\DL_ENV\\lib\\site-packages\\sklearn\\metrics\\_classification.py:1334: UndefinedMetricWarning: Precision is ill-defined and being set to 0.0 due to no predicted samples. Use `zero_division` parameter to control this behavior.\n",
      "  _warn_prf(average, modifier, msg_start, len(result))\n"
     ]
    },
    {
     "name": "stdout",
     "output_type": "stream",
     "text": [
      "Accuracy: 0.9961401355721147\n",
      "Precision: 0.0\n",
      "Recall: 0.0\n",
      "F1 Score: 0.0\n",
      "ROC AUC Score: 0.5\n"
     ]
    }
   ],
   "source": [
    "from sklearn.metrics import accuracy_score, precision_score, recall_score, f1_score, roc_auc_score, confusion_matrix, precision_recall_curve\n",
    "\n",
    "accuracy = accuracy_score(Y_test, testing_predictions_decisons)\n",
    "precision = precision_score(Y_test, testing_predictions_decisons)\n",
    "recall = recall_score(Y_test, testing_predictions_decisons)\n",
    "f1 = f1_score(Y_test, testing_predictions_decisons)\n",
    "roc_auc = roc_auc_score(Y_test, testing_predictions_decisons)\n",
    "\n",
    "print(\"Accuracy:\", accuracy)\n",
    "print(\"Precision:\", precision)\n",
    "print(\"Recall:\", recall)\n",
    "print(\"F1 Score:\", f1)\n",
    "print(\"ROC AUC Score:\", roc_auc)"
   ]
  },
  {
   "cell_type": "code",
   "execution_count": 28,
   "metadata": {},
   "outputs": [
    {
     "name": "stdout",
     "output_type": "stream",
     "text": [
      "Confusion Matrix:\n",
      "[[553574      0]\n",
      " [  2145      0]]\n"
     ]
    }
   ],
   "source": [
    "# Confusion matrix\n",
    "conf_matrix = confusion_matrix(Y_test, testing_predictions_decisons)\n",
    "print(\"Confusion Matrix:\")\n",
    "print(conf_matrix)"
   ]
  },
  {
   "cell_type": "code",
   "execution_count": 29,
   "metadata": {},
   "outputs": [],
   "source": [
    "# Precision Recall Curve\n",
    "precision, recall, thresholds = precision_recall_curve(Y_test, testing_predictions)"
   ]
  },
  {
   "cell_type": "code",
   "execution_count": 30,
   "metadata": {},
   "outputs": [
    {
     "data": {
      "image/png": "[encoded data removed]",
      "text/plain": [
       "<Figure size 800x600 with 1 Axes>"
      ]
     },
     "metadata": {},
     "output_type": "display_data"
    }
   ],
   "source": [
    "plt.figure(figsize=(8, 6))\n",
    "plt.plot(recall, precision, color='purple', label='Precision Recall Curve')\n",
    "plt.xlabel('Recall')\n",
    "plt.ylabel('Precision')\n",
    "plt.title('Precision-Recall Curve')\n",
    "plt.legend(loc='lower left')\n",
    "plt.grid(True)\n",
    "plt.show()"
   ]
  },
  {
   "cell_type": "markdown",
   "metadata": {},
   "source": [
    "### Perceptron with Mini Batch Gradient Descent Optimizer"
   ]
  },
  {
   "cell_type": "markdown",
   "metadata": {},
   "source": [
    "#### Custom Optimizer"
   ]
  },
  {
   "cell_type": "code",
   "execution_count": 31,
   "metadata": {},
   "outputs": [],
   "source": [
    "class MiniBatchSGD(tf.keras.optimizers.Optimizer):\n",
    "    def __init__(self, learning_rate=0.01, momentum=0.9, name=\"MiniBatchSGD\", **kwargs):\n",
    "        super().__init__(name, **kwargs)\n",
    "        self.learning_rate = learning_rate\n",
    "        self.momentum = momentum\n",
    "\n",
    "    def apply_gradients(self, grads_and_vars, name=None):\n",
    "        for gradient, variable in grads_and_vars:\n",
    "            momentum_variable = self.get_slot(variable, \"momentum\")\n",
    "            velocity_variable = self.get_slot(variable, \"velocity\")\n",
    "            # Compute the new momentum\n",
    "            new_momentum = self.momentum * momentum_variable + (1 - self.momentum) * gradient\n",
    "            update = self.learning_rate * new_momentum\n",
    "            # Update the variable by subtracting the computed update\n",
    "            variable.assign_sub(update)\n",
    "            # Assigning the new variables\n",
    "            momentum_variable.assign(new_momentum)\n",
    "            velocity_variable.assign(update)\n",
    "\n",
    "    def get_config(self):\n",
    "        base_config = super().get_config()\n",
    "        return {\n",
    "            **base_config,\n",
    "            \"learning_rate\": self.learning_rate,\n",
    "            \"momentum\": self.momentum,\n",
    "        }\n"
   ]
  },
  {
   "cell_type": "code",
   "execution_count": 32,
   "metadata": {},
   "outputs": [
    {
     "name": "stdout",
     "output_type": "stream",
     "text": [
      "Epoch 1/10\n",
      "32768/32768 [==============================] - 48s 1ms/step - loss: 0.0057 - accuracy: 0.9943\n",
      "Epoch 2/10\n",
      "32768/32768 [==============================] - 50s 2ms/step - loss: 0.0057 - accuracy: 0.9943\n",
      "Epoch 3/10\n",
      "32768/32768 [==============================] - 83s 3ms/step - loss: 0.0057 - accuracy: 0.9943\n",
      "Epoch 4/10\n",
      "32768/32768 [==============================] - 67s 2ms/step - loss: 0.0057 - accuracy: 0.9943\n",
      "Epoch 5/10\n",
      "32768/32768 [==============================] - 65s 2ms/step - loss: 0.0057 - accuracy: 0.9943\n",
      "Epoch 6/10\n",
      "32768/32768 [==============================] - 72s 2ms/step - loss: 0.0057 - accuracy: 0.9943\n",
      "Epoch 7/10\n",
      "32768/32768 [==============================] - 66s 2ms/step - loss: 0.0057 - accuracy: 0.9943\n",
      "Epoch 8/10\n",
      "32768/32768 [==============================] - 69s 2ms/step - loss: 0.0057 - accuracy: 0.9943\n",
      "Epoch 9/10\n",
      "32768/32768 [==============================] - 67s 2ms/step - loss: 0.0057 - accuracy: 0.9943\n",
      "Epoch 10/10\n",
      "32768/32768 [==============================] - 47s 1ms/step - loss: 0.0057 - accuracy: 0.9943\n"
     ]
    },
    {
     "data": {
      "text/plain": [
       "<tensorflow.python.keras.callbacks.History at 0x21431ede160>"
      ]
     },
     "execution_count": 32,
     "metadata": {},
     "output_type": "execute_result"
    }
   ],
   "source": [
    "# MLP model\n",
    "sec_fraud_model = tf.keras.models.Sequential([\n",
    "    tf.keras.layers.Dense(6, activation='relu', input_shape=(9,)), # 9 input shape because we have 10 features in it\n",
    "    tf.keras.layers.Dense(3, activation='relu'),\n",
    "    tf.keras.layers.Dense(1, activation='sigmoid') # Sigmoid activation fuction at the output layer for binary classification\n",
    "])\n",
    "\n",
    "# Compile the model with custom optimizer\n",
    "mbgd = MiniBatchSGD(learning_rate=0.01, momentum=0.9)\n",
    "sec_fraud_model.compile(optimizer=mbgd, loss='mse', metrics=['accuracy'])\n",
    "\n",
    "# Train the model\n",
    "fraud_model.fit(X_train, Y_train, epochs=10, batch_size=32)\n"
   ]
  },
  {
   "cell_type": "code",
   "execution_count": 33,
   "metadata": {},
   "outputs": [],
   "source": [
    "testing_predictions2 = fraud_model.predict(X_test)\n",
    "testing_predictions_decisons2 = (testing_predictions2 > 0.5).astype(\"int32\")"
   ]
  },
  {
   "cell_type": "code",
   "execution_count": 34,
   "metadata": {},
   "outputs": [
    {
     "name": "stderr",
     "output_type": "stream",
     "text": [
      "c:\\Users\\suhas\\anaconda3\\envs\\DL_ENV\\lib\\site-packages\\sklearn\\metrics\\_classification.py:1334: UndefinedMetricWarning: Precision is ill-defined and being set to 0.0 due to no predicted samples. Use `zero_division` parameter to control this behavior.\n",
      "  _warn_prf(average, modifier, msg_start, len(result))\n"
     ]
    },
    {
     "name": "stdout",
     "output_type": "stream",
     "text": [
      "Accuracy: 0.9961401355721147\n",
      "Precision: 0.0\n",
      "Recall: 0.0\n",
      "F1 Score: 0.0\n",
      "ROC AUC Score: 0.5\n"
     ]
    }
   ],
   "source": [
    "accuracy = accuracy_score(Y_test, testing_predictions_decisons2)\n",
    "precision = precision_score(Y_test, testing_predictions_decisons2)\n",
    "recall = recall_score(Y_test, testing_predictions_decisons2)\n",
    "f1 = f1_score(Y_test, testing_predictions_decisons2)\n",
    "roc_auc = roc_auc_score(Y_test, testing_predictions_decisons2)\n",
    "\n",
    "print(\"Accuracy:\", accuracy)\n",
    "print(\"Precision:\", precision)\n",
    "print(\"Recall:\", recall)\n",
    "print(\"F1 Score:\", f1)\n",
    "print(\"ROC AUC Score:\", roc_auc)"
   ]
  },
  {
   "cell_type": "code",
   "execution_count": 35,
   "metadata": {},
   "outputs": [
    {
     "name": "stdout",
     "output_type": "stream",
     "text": [
      "Confusion Matrix:\n",
      "[[553574      0]\n",
      " [  2145      0]]\n"
     ]
    }
   ],
   "source": [
    "# Confusion matrix\n",
    "conf_matrix = confusion_matrix(Y_test, testing_predictions_decisons2)\n",
    "print(\"Confusion Matrix:\")\n",
    "print(conf_matrix)"
   ]
  }
 ],
 "metadata": {
  "kernelspec": {
   "display_name": "DL_ENV",
   "language": "python",
   "name": "python3"
  },
  "language_info": {
   "codemirror_mode": {
    "name": "ipython",
    "version": 3
   },
   "file_extension": ".py",
   "mimetype": "text/x-python",
   "name": "python",
   "nbconvert_exporter": "python",
   "pygments_lexer": "ipython3",
   "version": "3.8.18"
  }
 },
 "nbformat": 4,
 "nbformat_minor": 2
}
