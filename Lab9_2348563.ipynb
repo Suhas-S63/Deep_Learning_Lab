{
 "cells": [
  {
   "cell_type": "markdown",
   "id": "87255baf-f976-47dc-9cfa-f225a0508964",
   "metadata": {},
   "source": [
    "## LSTM"
   ]
  },
  {
   "cell_type": "markdown",
   "id": "903207a8-2bbd-4493-bdf3-5bde204edacc",
   "metadata": {},
   "source": [
    "### Importing dataset"
   ]
  },
  {
   "cell_type": "code",
   "execution_count": 3,
   "id": "d2b90cda-0118-48c5-b97d-4ad0c33b1dd5",
   "metadata": {},
   "outputs": [
    {
     "data": {
      "text/html": [
       "<div>\n",
       "<style scoped>\n",
       "    .dataframe tbody tr th:only-of-type {\n",
       "        vertical-align: middle;\n",
       "    }\n",
       "\n",
       "    .dataframe tbody tr th {\n",
       "        vertical-align: top;\n",
       "    }\n",
       "\n",
       "    .dataframe thead th {\n",
       "        text-align: right;\n",
       "    }\n",
       "</style>\n",
       "<table border=\"1\" class=\"dataframe\">\n",
       "  <thead>\n",
       "    <tr style=\"text-align: right;\">\n",
       "      <th></th>\n",
       "      <th>Date</th>\n",
       "      <th>Open</th>\n",
       "      <th>High</th>\n",
       "      <th>Low</th>\n",
       "      <th>Close</th>\n",
       "      <th>Volume</th>\n",
       "    </tr>\n",
       "  </thead>\n",
       "  <tbody>\n",
       "    <tr>\n",
       "      <th>0</th>\n",
       "      <td>1/3/2012</td>\n",
       "      <td>325.25</td>\n",
       "      <td>332.83</td>\n",
       "      <td>324.97</td>\n",
       "      <td>663.59</td>\n",
       "      <td>7,380,500</td>\n",
       "    </tr>\n",
       "    <tr>\n",
       "      <th>1</th>\n",
       "      <td>1/4/2012</td>\n",
       "      <td>331.27</td>\n",
       "      <td>333.87</td>\n",
       "      <td>329.08</td>\n",
       "      <td>666.45</td>\n",
       "      <td>5,749,400</td>\n",
       "    </tr>\n",
       "    <tr>\n",
       "      <th>2</th>\n",
       "      <td>1/5/2012</td>\n",
       "      <td>329.83</td>\n",
       "      <td>330.75</td>\n",
       "      <td>326.89</td>\n",
       "      <td>657.21</td>\n",
       "      <td>6,590,300</td>\n",
       "    </tr>\n",
       "    <tr>\n",
       "      <th>3</th>\n",
       "      <td>1/6/2012</td>\n",
       "      <td>328.34</td>\n",
       "      <td>328.77</td>\n",
       "      <td>323.68</td>\n",
       "      <td>648.24</td>\n",
       "      <td>5,405,900</td>\n",
       "    </tr>\n",
       "    <tr>\n",
       "      <th>4</th>\n",
       "      <td>1/9/2012</td>\n",
       "      <td>322.04</td>\n",
       "      <td>322.29</td>\n",
       "      <td>309.46</td>\n",
       "      <td>620.76</td>\n",
       "      <td>11,688,800</td>\n",
       "    </tr>\n",
       "  </tbody>\n",
       "</table>\n",
       "</div>"
      ],
      "text/plain": [
       "       Date    Open    High     Low   Close      Volume\n",
       "0  1/3/2012  325.25  332.83  324.97  663.59   7,380,500\n",
       "1  1/4/2012  331.27  333.87  329.08  666.45   5,749,400\n",
       "2  1/5/2012  329.83  330.75  326.89  657.21   6,590,300\n",
       "3  1/6/2012  328.34  328.77  323.68  648.24   5,405,900\n",
       "4  1/9/2012  322.04  322.29  309.46  620.76  11,688,800"
      ]
     },
     "execution_count": 3,
     "metadata": {},
     "output_type": "execute_result"
    }
   ],
   "source": [
    "import pandas as pd\n",
    "dataset_train = pd.read_csv('C:/Jupyter Notebooks Practice/DL Notebooks/Google_Stock_Price_Train.csv')\n",
    "dataset_test = pd.read_csv('C:/Jupyter Notebooks Practice/DL Notebooks/Google_Stock_Price_Test.csv')\n",
    "dataset_train.head()"
   ]
  },
  {
   "cell_type": "markdown",
   "id": "68f04cde-cf64-4d9f-b7c0-cb2c0f208446",
   "metadata": {},
   "source": [
    "### Normalising data"
   ]
  },
  {
   "cell_type": "code",
   "execution_count": 4,
   "id": "d1f524ef-fbdd-4a9b-a9e6-a4904dc92589",
   "metadata": {},
   "outputs": [],
   "source": [
    "from sklearn.preprocessing import MinMaxScaler\n",
    "training_set = dataset_train.iloc[:, 1:2].values\n",
    "sc = MinMaxScaler(feature_range = (0, 1))\n",
    "training_set_scaled = sc.fit_transform(training_set)"
   ]
  },
  {
   "cell_type": "markdown",
   "id": "b87e7d18-a9c0-4869-86f9-fb0b971f34e4",
   "metadata": {},
   "source": [
    "### Creating training sets"
   ]
  },
  {
   "cell_type": "code",
   "execution_count": 5,
   "id": "0391888f-2e75-4464-b60e-b6c401bb84ce",
   "metadata": {},
   "outputs": [],
   "source": [
    "import numpy as np\n",
    "X_train = []\n",
    "y_train = []\n",
    "for i in range(60, 1258):\n",
    "    X_train.append(training_set_scaled[i-60:i, 0])\n",
    "    y_train.append(training_set_scaled[i, 0])\n",
    "X_train, y_train = np.array(X_train), np.array(y_train)\n",
    "X_train = np.reshape(X_train, (X_train.shape[0], X_train.shape[1], 1))"
   ]
  },
  {
   "cell_type": "markdown",
   "id": "ea7d14d5-a37d-452e-b678-a7ecf5939c32",
   "metadata": {},
   "source": [
    "### Building the LSTM model"
   ]
  },
  {
   "cell_type": "code",
   "execution_count": 6,
   "id": "c4b9be69-43e9-4d26-aaf5-fbe36452c668",
   "metadata": {},
   "outputs": [
    {
     "name": "stdout",
     "output_type": "stream",
     "text": [
      "Epoch 1/100\n",
      "38/38 [==============================] - 9s 54ms/step - loss: 0.0542 - mean_absolute_error: 0.1573\n",
      "Epoch 2/100\n",
      "38/38 [==============================] - 2s 55ms/step - loss: 0.0067 - mean_absolute_error: 0.0638\n",
      "Epoch 3/100\n",
      "38/38 [==============================] - 2s 54ms/step - loss: 0.0044 - mean_absolute_error: 0.0495\n",
      "Epoch 4/100\n",
      "38/38 [==============================] - 2s 53ms/step - loss: 0.0043 - mean_absolute_error: 0.0470\n",
      "Epoch 5/100\n",
      "38/38 [==============================] - 2s 54ms/step - loss: 0.0042 - mean_absolute_error: 0.0469\n",
      "Epoch 6/100\n",
      "38/38 [==============================] - 2s 56ms/step - loss: 0.0040 - mean_absolute_error: 0.0461\n",
      "Epoch 7/100\n",
      "38/38 [==============================] - 2s 57ms/step - loss: 0.0040 - mean_absolute_error: 0.0462\n",
      "Epoch 8/100\n",
      "38/38 [==============================] - 2s 55ms/step - loss: 0.0032 - mean_absolute_error: 0.0410\n",
      "Epoch 9/100\n",
      "38/38 [==============================] - 2s 54ms/step - loss: 0.0033 - mean_absolute_error: 0.0413\n",
      "Epoch 10/100\n",
      "38/38 [==============================] - 2s 55ms/step - loss: 0.0031 - mean_absolute_error: 0.0403\n",
      "Epoch 11/100\n",
      "38/38 [==============================] - 2s 56ms/step - loss: 0.0030 - mean_absolute_error: 0.0397\n",
      "Epoch 12/100\n",
      "38/38 [==============================] - 2s 55ms/step - loss: 0.0029 - mean_absolute_error: 0.0385\n",
      "Epoch 13/100\n",
      "38/38 [==============================] - 2s 55ms/step - loss: 0.0030 - mean_absolute_error: 0.0391\n",
      "Epoch 14/100\n",
      "38/38 [==============================] - 2s 56ms/step - loss: 0.0029 - mean_absolute_error: 0.0396\n",
      "Epoch 15/100\n",
      "38/38 [==============================] - 2s 57ms/step - loss: 0.0026 - mean_absolute_error: 0.0368\n",
      "Epoch 16/100\n",
      "38/38 [==============================] - 2s 55ms/step - loss: 0.0026 - mean_absolute_error: 0.0374\n",
      "Epoch 17/100\n",
      "38/38 [==============================] - 2s 57ms/step - loss: 0.0027 - mean_absolute_error: 0.0375\n",
      "Epoch 18/100\n",
      "38/38 [==============================] - 2s 53ms/step - loss: 0.0026 - mean_absolute_error: 0.0363\n",
      "Epoch 19/100\n",
      "38/38 [==============================] - 2s 50ms/step - loss: 0.0027 - mean_absolute_error: 0.0373\n",
      "Epoch 20/100\n",
      "38/38 [==============================] - 2s 52ms/step - loss: 0.0025 - mean_absolute_error: 0.0358\n",
      "Epoch 21/100\n",
      "38/38 [==============================] - 2s 54ms/step - loss: 0.0026 - mean_absolute_error: 0.0372\n",
      "Epoch 22/100\n",
      "38/38 [==============================] - 2s 56ms/step - loss: 0.0023 - mean_absolute_error: 0.0344\n",
      "Epoch 23/100\n",
      "38/38 [==============================] - 2s 54ms/step - loss: 0.0024 - mean_absolute_error: 0.0355\n",
      "Epoch 24/100\n",
      "38/38 [==============================] - 2s 50ms/step - loss: 0.0024 - mean_absolute_error: 0.0349\n",
      "Epoch 25/100\n",
      "38/38 [==============================] - 2s 51ms/step - loss: 0.0024 - mean_absolute_error: 0.0354\n",
      "Epoch 26/100\n",
      "38/38 [==============================] - 2s 53ms/step - loss: 0.0025 - mean_absolute_error: 0.0358\n",
      "Epoch 27/100\n",
      "38/38 [==============================] - 2s 53ms/step - loss: 0.0022 - mean_absolute_error: 0.0344\n",
      "Epoch 28/100\n",
      "38/38 [==============================] - 2s 54ms/step - loss: 0.0022 - mean_absolute_error: 0.0340\n",
      "Epoch 29/100\n",
      "38/38 [==============================] - 2s 53ms/step - loss: 0.0021 - mean_absolute_error: 0.0335\n",
      "Epoch 30/100\n",
      "38/38 [==============================] - 2s 51ms/step - loss: 0.0020 - mean_absolute_error: 0.0331\n",
      "Epoch 31/100\n",
      "38/38 [==============================] - 3s 84ms/step - loss: 0.0022 - mean_absolute_error: 0.0337\n",
      "Epoch 32/100\n",
      "38/38 [==============================] - 2s 59ms/step - loss: 0.0024 - mean_absolute_error: 0.0345\n",
      "Epoch 33/100\n",
      "38/38 [==============================] - 2s 44ms/step - loss: 0.0022 - mean_absolute_error: 0.0337\n",
      "Epoch 34/100\n",
      "38/38 [==============================] - 2s 42ms/step - loss: 0.0020 - mean_absolute_error: 0.0324\n",
      "Epoch 35/100\n",
      "38/38 [==============================] - 2s 41ms/step - loss: 0.0021 - mean_absolute_error: 0.0334\n",
      "Epoch 36/100\n",
      "38/38 [==============================] - 2s 41ms/step - loss: 0.0020 - mean_absolute_error: 0.0326\n",
      "Epoch 37/100\n",
      "38/38 [==============================] - 2s 47ms/step - loss: 0.0021 - mean_absolute_error: 0.0335\n",
      "Epoch 38/100\n",
      "38/38 [==============================] - 2s 42ms/step - loss: 0.0022 - mean_absolute_error: 0.0335\n",
      "Epoch 39/100\n",
      "38/38 [==============================] - 2s 42ms/step - loss: 0.0021 - mean_absolute_error: 0.0327\n",
      "Epoch 40/100\n",
      "38/38 [==============================] - 2s 43ms/step - loss: 0.0021 - mean_absolute_error: 0.0327\n",
      "Epoch 41/100\n",
      "38/38 [==============================] - 2s 55ms/step - loss: 0.0019 - mean_absolute_error: 0.0306\n",
      "Epoch 42/100\n",
      "38/38 [==============================] - 2s 51ms/step - loss: 0.0019 - mean_absolute_error: 0.0319\n",
      "Epoch 43/100\n",
      "38/38 [==============================] - 2s 53ms/step - loss: 0.0019 - mean_absolute_error: 0.0309\n",
      "Epoch 44/100\n",
      "38/38 [==============================] - 2s 55ms/step - loss: 0.0019 - mean_absolute_error: 0.0313\n",
      "Epoch 45/100\n",
      "38/38 [==============================] - 2s 55ms/step - loss: 0.0019 - mean_absolute_error: 0.0309\n",
      "Epoch 46/100\n",
      "38/38 [==============================] - 2s 53ms/step - loss: 0.0020 - mean_absolute_error: 0.0327\n",
      "Epoch 47/100\n",
      "38/38 [==============================] - 2s 54ms/step - loss: 0.0019 - mean_absolute_error: 0.0312\n",
      "Epoch 48/100\n",
      "38/38 [==============================] - 2s 50ms/step - loss: 0.0018 - mean_absolute_error: 0.0302\n",
      "Epoch 49/100\n",
      "38/38 [==============================] - 2s 50ms/step - loss: 0.0017 - mean_absolute_error: 0.0293\n",
      "Epoch 50/100\n",
      "38/38 [==============================] - 2s 50ms/step - loss: 0.0018 - mean_absolute_error: 0.0301\n",
      "Epoch 51/100\n",
      "38/38 [==============================] - 2s 46ms/step - loss: 0.0016 - mean_absolute_error: 0.0283\n",
      "Epoch 52/100\n",
      "38/38 [==============================] - 2s 45ms/step - loss: 0.0017 - mean_absolute_error: 0.0294\n",
      "Epoch 53/100\n",
      "38/38 [==============================] - 2s 48ms/step - loss: 0.0017 - mean_absolute_error: 0.0298\n",
      "Epoch 54/100\n",
      "38/38 [==============================] - 2s 47ms/step - loss: 0.0017 - mean_absolute_error: 0.0298\n",
      "Epoch 55/100\n",
      "38/38 [==============================] - 2s 51ms/step - loss: 0.0018 - mean_absolute_error: 0.0295\n",
      "Epoch 56/100\n",
      "38/38 [==============================] - 2s 49ms/step - loss: 0.0018 - mean_absolute_error: 0.0300\n",
      "Epoch 57/100\n",
      "38/38 [==============================] - 2s 54ms/step - loss: 0.0016 - mean_absolute_error: 0.0289\n",
      "Epoch 58/100\n",
      "38/38 [==============================] - 2s 55ms/step - loss: 0.0017 - mean_absolute_error: 0.0296\n",
      "Epoch 59/100\n",
      "38/38 [==============================] - 2s 53ms/step - loss: 0.0018 - mean_absolute_error: 0.0295\n",
      "Epoch 60/100\n",
      "38/38 [==============================] - 2s 53ms/step - loss: 0.0016 - mean_absolute_error: 0.0285\n",
      "Epoch 61/100\n",
      "38/38 [==============================] - 2s 58ms/step - loss: 0.0016 - mean_absolute_error: 0.0282\n",
      "Epoch 62/100\n",
      "38/38 [==============================] - 2s 52ms/step - loss: 0.0015 - mean_absolute_error: 0.0280\n",
      "Epoch 63/100\n",
      "38/38 [==============================] - 2s 50ms/step - loss: 0.0016 - mean_absolute_error: 0.0283\n",
      "Epoch 64/100\n",
      "38/38 [==============================] - 2s 51ms/step - loss: 0.0015 - mean_absolute_error: 0.0278\n",
      "Epoch 65/100\n",
      "38/38 [==============================] - 2s 55ms/step - loss: 0.0016 - mean_absolute_error: 0.0281\n",
      "Epoch 66/100\n",
      "38/38 [==============================] - 2s 54ms/step - loss: 0.0014 - mean_absolute_error: 0.0267\n",
      "Epoch 67/100\n",
      "38/38 [==============================] - 2s 50ms/step - loss: 0.0015 - mean_absolute_error: 0.0279\n",
      "Epoch 68/100\n",
      "38/38 [==============================] - 2s 53ms/step - loss: 0.0015 - mean_absolute_error: 0.0281\n",
      "Epoch 69/100\n",
      "38/38 [==============================] - 2s 52ms/step - loss: 0.0014 - mean_absolute_error: 0.0267\n",
      "Epoch 70/100\n",
      "38/38 [==============================] - 2s 57ms/step - loss: 0.0014 - mean_absolute_error: 0.0262\n",
      "Epoch 71/100\n",
      "38/38 [==============================] - 2s 53ms/step - loss: 0.0013 - mean_absolute_error: 0.0255\n",
      "Epoch 72/100\n",
      "38/38 [==============================] - 2s 54ms/step - loss: 0.0013 - mean_absolute_error: 0.0249\n",
      "Epoch 73/100\n",
      "38/38 [==============================] - 2s 60ms/step - loss: 0.0015 - mean_absolute_error: 0.0266\n",
      "Epoch 74/100\n",
      "38/38 [==============================] - 2s 54ms/step - loss: 0.0015 - mean_absolute_error: 0.0270\n",
      "Epoch 75/100\n",
      "38/38 [==============================] - 2s 54ms/step - loss: 0.0014 - mean_absolute_error: 0.0270\n",
      "Epoch 76/100\n",
      "38/38 [==============================] - 2s 56ms/step - loss: 0.0014 - mean_absolute_error: 0.0266\n",
      "Epoch 77/100\n",
      "38/38 [==============================] - 2s 55ms/step - loss: 0.0013 - mean_absolute_error: 0.0255\n",
      "Epoch 78/100\n",
      "38/38 [==============================] - 2s 55ms/step - loss: 0.0012 - mean_absolute_error: 0.0247\n",
      "Epoch 79/100\n",
      "38/38 [==============================] - 2s 55ms/step - loss: 0.0014 - mean_absolute_error: 0.0267\n",
      "Epoch 80/100\n",
      "38/38 [==============================] - 2s 56ms/step - loss: 0.0012 - mean_absolute_error: 0.0246\n",
      "Epoch 81/100\n",
      "38/38 [==============================] - 2s 55ms/step - loss: 0.0013 - mean_absolute_error: 0.0259\n",
      "Epoch 82/100\n",
      "38/38 [==============================] - 2s 54ms/step - loss: 0.0014 - mean_absolute_error: 0.0258\n",
      "Epoch 83/100\n",
      "38/38 [==============================] - 2s 51ms/step - loss: 0.0013 - mean_absolute_error: 0.0250\n",
      "Epoch 84/100\n",
      "38/38 [==============================] - 2s 48ms/step - loss: 0.0012 - mean_absolute_error: 0.0247\n",
      "Epoch 85/100\n",
      "38/38 [==============================] - 2s 49ms/step - loss: 0.0012 - mean_absolute_error: 0.0249\n",
      "Epoch 86/100\n",
      "38/38 [==============================] - 2s 48ms/step - loss: 0.0012 - mean_absolute_error: 0.0249\n",
      "Epoch 87/100\n",
      "38/38 [==============================] - 2s 50ms/step - loss: 0.0013 - mean_absolute_error: 0.0249\n",
      "Epoch 88/100\n",
      "38/38 [==============================] - 2s 49ms/step - loss: 0.0013 - mean_absolute_error: 0.0250\n",
      "Epoch 89/100\n",
      "38/38 [==============================] - 2s 47ms/step - loss: 0.0012 - mean_absolute_error: 0.0241\n",
      "Epoch 90/100\n",
      "38/38 [==============================] - 2s 49ms/step - loss: 0.0012 - mean_absolute_error: 0.0241\n",
      "Epoch 91/100\n",
      "38/38 [==============================] - 2s 48ms/step - loss: 0.0012 - mean_absolute_error: 0.0248\n",
      "Epoch 92/100\n",
      "38/38 [==============================] - 2s 46ms/step - loss: 0.0012 - mean_absolute_error: 0.0248\n",
      "Epoch 93/100\n",
      "38/38 [==============================] - 2s 47ms/step - loss: 0.0011 - mean_absolute_error: 0.0240\n",
      "Epoch 94/100\n",
      "38/38 [==============================] - 2s 46ms/step - loss: 0.0013 - mean_absolute_error: 0.0261\n",
      "Epoch 95/100\n",
      "38/38 [==============================] - 2s 48ms/step - loss: 0.0012 - mean_absolute_error: 0.0244\n",
      "Epoch 96/100\n",
      "38/38 [==============================] - 2s 45ms/step - loss: 0.0011 - mean_absolute_error: 0.0237\n",
      "Epoch 97/100\n",
      "38/38 [==============================] - 2s 45ms/step - loss: 0.0011 - mean_absolute_error: 0.0234\n",
      "Epoch 98/100\n",
      "38/38 [==============================] - 2s 48ms/step - loss: 0.0011 - mean_absolute_error: 0.0244\n",
      "Epoch 99/100\n",
      "38/38 [==============================] - 2s 53ms/step - loss: 0.0012 - mean_absolute_error: 0.0239\n",
      "Epoch 100/100\n",
      "38/38 [==============================] - 2s 57ms/step - loss: 0.0011 - mean_absolute_error: 0.0235\n"
     ]
    },
    {
     "data": {
      "text/plain": [
       "<keras.callbacks.History at 0x1cec2c7c6d0>"
      ]
     },
     "execution_count": 6,
     "metadata": {},
     "output_type": "execute_result"
    }
   ],
   "source": [
    "from keras.models import Sequential\n",
    "from keras.layers import Dense, LSTM, Dropout, Input\n",
    "model=Sequential()\n",
    "model.add(Input(shape=(X_train.shape[1], 1)))\n",
    "model.add(LSTM(units = 50))\n",
    "model.add(Dropout(0.2))\n",
    "model.add(Dense(units = 1))\n",
    "model.compile(loss='mean_squared_error', optimizer='adam', metrics=['mean_absolute_error'])\n",
    "model.fit(X_train, y_train, epochs = 100, batch_size = 32)"
   ]
  },
  {
   "cell_type": "markdown",
   "id": "8bca3f25-8047-4691-8f57-8f15255b11af",
   "metadata": {},
   "source": [
    "### Predicting price"
   ]
  },
  {
   "cell_type": "code",
   "execution_count": 7,
   "id": "b575aaa8-e2c0-480d-8659-23c641eb2492",
   "metadata": {},
   "outputs": [
    {
     "name": "stdout",
     "output_type": "stream",
     "text": [
      "1/1 [==============================] - 2s 2s/step\n"
     ]
    }
   ],
   "source": [
    "real_stock_price = dataset_test.iloc[:, 1:2].values\n",
    "dataset_total = pd.concat((dataset_train['Open'], dataset_test['Open']), axis = 0)\n",
    "inputs = dataset_total[len(dataset_total) - len(dataset_test) - 60:].values\n",
    "inputs = inputs.reshape(-1,1)\n",
    "inputs = sc.transform(inputs)\n",
    "X_test = []\n",
    "for i in range(60, 80):\n",
    "    X_test.append(inputs[i-60:i, 0])\n",
    "X_test = np.array(X_test)\n",
    "X_test = np.reshape(X_test, (X_test.shape[0], X_test.shape[1], 1))\n",
    "predicted_stock_price = model.predict(X_test)\n",
    "predicted_stock_price = sc.inverse_transform(predicted_stock_price)"
   ]
  },
  {
   "cell_type": "markdown",
   "id": "9fe3304f-28cd-400b-bcb4-2da9f1c7286c",
   "metadata": {},
   "source": [
    "### Displaying Prediction"
   ]
  },
  {
   "cell_type": "code",
   "execution_count": 8,
   "id": "4a95e28f-e500-4f49-8015-6b52d9d3efb6",
   "metadata": {},
   "outputs": [
    {
     "data": {
      "image/png": "[encoded data removed]",
      "text/plain": [
       "<Figure size 640x480 with 1 Axes>"
      ]
     },
     "metadata": {},
     "output_type": "display_data"
    }
   ],
   "source": [
    "import matplotlib.pyplot as plt\n",
    "plt.plot(real_stock_price, label = 'Real Google Stock Price')\n",
    "plt.plot(predicted_stock_price, label = 'Predicted Google Stock Price')\n",
    "plt.title('Google Stock Price Prediction')\n",
    "plt.xlabel('Time')\n",
    "plt.ylabel('Google Stock Price')\n",
    "plt.legend()\n",
    "plt.show()"
   ]
  },
  {
   "cell_type": "code",
   "execution_count": null,
   "id": "73494f6c-8e34-4176-9240-507b7e8673c1",
   "metadata": {},
   "outputs": [],
   "source": []
  }
 ],
 "metadata": {
  "kernelspec": {
   "display_name": "DeepL_ENV",
   "language": "python",
   "name": "deepl_env"
  },
  "language_info": {
   "codemirror_mode": {
    "name": "ipython",
    "version": 3
   },
   "file_extension": ".py",
   "mimetype": "text/x-python",
   "name": "python",
   "nbconvert_exporter": "python",
   "pygments_lexer": "ipython3",
   "version": "3.9.18"
  }
 },
 "nbformat": 4,
 "nbformat_minor": 5
}
